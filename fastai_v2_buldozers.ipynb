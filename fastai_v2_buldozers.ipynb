{
  "nbformat": 4,
  "nbformat_minor": 0,
  "metadata": {
    "colab": {
      "name": "fastai-v2-buldozers.ipynb",
      "provenance": [],
      "collapsed_sections": [],
      "toc_visible": true
    },
    "kernelspec": {
      "name": "python3",
      "display_name": "Python 3"
    }
  },
  "cells": [
    {
      "cell_type": "markdown",
      "metadata": {
        "id": "BVCuBWUkCLVb"
      },
      "source": [
        "# Intro\n",
        "Adaptation of `fastai` and `sklearn` libraries for Machine learning models using Kaggle 'buldozers' dataset.\n",
        "\n",
        "For `fastai` implementation used documentation https://docs.fast.ai/tutorial.tabular.html and https://docs.fast.ai/tabular.core.html"
      ]
    },
    {
      "cell_type": "markdown",
      "metadata": {
        "id": "uCZaAjC1TPZA"
      },
      "source": [
        "# Prepare"
      ]
    },
    {
      "cell_type": "markdown",
      "metadata": {
        "id": "2pjAqtIhlRFE"
      },
      "source": [
        "## Imports"
      ]
    },
    {
      "cell_type": "code",
      "metadata": {
        "id": "1ucmc5EwFm7c"
      },
      "source": [
        "%load_ext autoreload\n",
        "# %autoreload 2\n",
        "%matplotlib inline\n",
        "# these lines let us edit modules code and this will automatically reload modules."
      ],
      "execution_count": null,
      "outputs": []
    },
    {
      "cell_type": "code",
      "metadata": {
        "id": "LHlUTJi0lPz9"
      },
      "source": [
        "from fastai.imports import *\n",
        "from fastai.tabular import *\n",
        "from fastai.tabular.core import * # not work on fastai 2.0.17\n",
        "from fastai.tabular.all import * # not work on fastai 2.0.17\n",
        "\n",
        "# from pandas_summary import DataFrameSummary\n",
        "from sklearn.ensemble import RandomForestRegressor\n",
        "from IPython.display import display\n",
        "\n",
        "from sklearn import metrics"
      ],
      "execution_count": null,
      "outputs": []
    },
    {
      "cell_type": "markdown",
      "metadata": {
        "id": "gvnQTOdrpfKn"
      },
      "source": [
        "### If got errors importing fastai - try install version 2"
      ]
    },
    {
      "cell_type": "markdown",
      "metadata": {
        "id": "JrsD_ecvo-ks"
      },
      "source": [
        "if `fastai.tabular.core` or `fastai.tabular.all` give errors - this means you have wrong version of `fastai` library. Try uninstall and install it again."
      ]
    },
    {
      "cell_type": "code",
      "metadata": {
        "id": "Tap9VUz0nCiw",
        "colab": {
          "base_uri": "https://localhost:8080/"
        },
        "outputId": "903b5ff4-86cf-4c5b-a922-9a3935b08457"
      },
      "source": [
        "# !pip install --upgrade fastai\n",
        "!pip uninstall fastai "
      ],
      "execution_count": null,
      "outputs": [
        {
          "output_type": "stream",
          "text": [
            "Uninstalling fastai-2.0.17:\n",
            "  Would remove:\n",
            "    /usr/local/lib/python3.6/dist-packages/fastai-2.0.17.dist-info/*\n",
            "    /usr/local/lib/python3.6/dist-packages/fastai/*\n",
            "Proceed (y/n)? y\n",
            "  Successfully uninstalled fastai-2.0.17\n"
          ],
          "name": "stdout"
        }
      ]
    },
    {
      "cell_type": "code",
      "metadata": {
        "id": "Y1tkEMgzpR1o",
        "colab": {
          "base_uri": "https://localhost:8080/",
          "height": 1000
        },
        "outputId": "0b8e4350-7913-4fe9-c64d-db47789fbe6c"
      },
      "source": [
        "!pip install fastai #==2.0.17"
      ],
      "execution_count": null,
      "outputs": [
        {
          "output_type": "stream",
          "text": [
            "Collecting fastai\n",
            "\u001b[?25l  Downloading https://files.pythonhosted.org/packages/ff/53/da994550c0dd2962351fd694694e553afe0c9516c02251586790f830430b/fastai-2.1.8-py3-none-any.whl (189kB)\n",
            "\r\u001b[K     |█▊                              | 10kB 17.3MB/s eta 0:00:01\r\u001b[K     |███▌                            | 20kB 23.4MB/s eta 0:00:01\r\u001b[K     |█████▏                          | 30kB 14.7MB/s eta 0:00:01\r\u001b[K     |███████                         | 40kB 12.3MB/s eta 0:00:01\r\u001b[K     |████████▋                       | 51kB 9.0MB/s eta 0:00:01\r\u001b[K     |██████████▍                     | 61kB 9.2MB/s eta 0:00:01\r\u001b[K     |████████████                    | 71kB 9.9MB/s eta 0:00:01\r\u001b[K     |█████████████▉                  | 81kB 9.8MB/s eta 0:00:01\r\u001b[K     |███████████████▋                | 92kB 9.7MB/s eta 0:00:01\r\u001b[K     |█████████████████▎              | 102kB 10.2MB/s eta 0:00:01\r\u001b[K     |███████████████████             | 112kB 10.2MB/s eta 0:00:01\r\u001b[K     |████████████████████▊           | 122kB 10.2MB/s eta 0:00:01\r\u001b[K     |██████████████████████▌         | 133kB 10.2MB/s eta 0:00:01\r\u001b[K     |████████████████████████▏       | 143kB 10.2MB/s eta 0:00:01\r\u001b[K     |██████████████████████████      | 153kB 10.2MB/s eta 0:00:01\r\u001b[K     |███████████████████████████▊    | 163kB 10.2MB/s eta 0:00:01\r\u001b[K     |█████████████████████████████▍  | 174kB 10.2MB/s eta 0:00:01\r\u001b[K     |███████████████████████████████▏| 184kB 10.2MB/s eta 0:00:01\r\u001b[K     |████████████████████████████████| 194kB 10.2MB/s \n",
            "\u001b[?25hCollecting torchvision>=0.8\n",
            "\u001b[?25l  Downloading https://files.pythonhosted.org/packages/e7/43/aaa740c406b1832adc6ff9d5e71c23fd2af2ebd436c42d76d85809ec8be9/torchvision-0.8.1-cp36-cp36m-manylinux1_x86_64.whl (12.8MB)\n",
            "\u001b[K     |████████████████████████████████| 12.8MB 14.5MB/s \n",
            "\u001b[?25hRequirement already satisfied: matplotlib in /usr/local/lib/python3.6/dist-packages (from fastai) (3.2.2)\n",
            "Requirement already satisfied: pandas in /usr/local/lib/python3.6/dist-packages (from fastai) (1.1.4)\n",
            "Requirement already satisfied: scipy in /usr/local/lib/python3.6/dist-packages (from fastai) (1.4.1)\n",
            "Requirement already satisfied: pip in /usr/local/lib/python3.6/dist-packages (from fastai) (19.3.1)\n",
            "Collecting torch>=1.7.0\n",
            "\u001b[?25l  Downloading https://files.pythonhosted.org/packages/80/2a/58f8078744e0408619c63148f7a2e8e48cf007e4146b74d4bb67c56d161b/torch-1.7.0-cp36-cp36m-manylinux1_x86_64.whl (776.7MB)\n",
            "\u001b[K     |████████████████████████████████| 776.7MB 22kB/s \n",
            "\u001b[?25hRequirement already satisfied: fastcore>=1.3.8 in /usr/local/lib/python3.6/dist-packages (from fastai) (1.3.10)\n",
            "Requirement already satisfied: spacy in /usr/local/lib/python3.6/dist-packages (from fastai) (2.2.4)\n",
            "Requirement already satisfied: scikit-learn in /usr/local/lib/python3.6/dist-packages (from fastai) (0.22.2.post1)\n",
            "Requirement already satisfied: pillow in /usr/local/lib/python3.6/dist-packages (from fastai) (7.0.0)\n",
            "Requirement already satisfied: packaging in /usr/local/lib/python3.6/dist-packages (from fastai) (20.4)\n",
            "Requirement already satisfied: requests in /usr/local/lib/python3.6/dist-packages (from fastai) (2.23.0)\n",
            "Requirement already satisfied: fastprogress>=0.2.4 in /usr/local/lib/python3.6/dist-packages (from fastai) (1.0.0)\n",
            "Requirement already satisfied: pyyaml in /usr/local/lib/python3.6/dist-packages (from fastai) (3.13)\n",
            "Requirement already satisfied: numpy in /usr/local/lib/python3.6/dist-packages (from torchvision>=0.8->fastai) (1.18.5)\n",
            "Requirement already satisfied: kiwisolver>=1.0.1 in /usr/local/lib/python3.6/dist-packages (from matplotlib->fastai) (1.3.1)\n",
            "Requirement already satisfied: cycler>=0.10 in /usr/local/lib/python3.6/dist-packages (from matplotlib->fastai) (0.10.0)\n",
            "Requirement already satisfied: pyparsing!=2.0.4,!=2.1.2,!=2.1.6,>=2.0.1 in /usr/local/lib/python3.6/dist-packages (from matplotlib->fastai) (2.4.7)\n",
            "Requirement already satisfied: python-dateutil>=2.1 in /usr/local/lib/python3.6/dist-packages (from matplotlib->fastai) (2.8.1)\n",
            "Requirement already satisfied: pytz>=2017.2 in /usr/local/lib/python3.6/dist-packages (from pandas->fastai) (2018.9)\n",
            "Requirement already satisfied: typing-extensions in /usr/local/lib/python3.6/dist-packages (from torch>=1.7.0->fastai) (3.7.4.3)\n",
            "Requirement already satisfied: dataclasses in /usr/local/lib/python3.6/dist-packages (from torch>=1.7.0->fastai) (0.8)\n",
            "Requirement already satisfied: future in /usr/local/lib/python3.6/dist-packages (from torch>=1.7.0->fastai) (0.16.0)\n",
            "Requirement already satisfied: murmurhash<1.1.0,>=0.28.0 in /usr/local/lib/python3.6/dist-packages (from spacy->fastai) (1.0.4)\n",
            "Requirement already satisfied: srsly<1.1.0,>=1.0.2 in /usr/local/lib/python3.6/dist-packages (from spacy->fastai) (1.0.4)\n",
            "Requirement already satisfied: thinc==7.4.0 in /usr/local/lib/python3.6/dist-packages (from spacy->fastai) (7.4.0)\n",
            "Requirement already satisfied: tqdm<5.0.0,>=4.38.0 in /usr/local/lib/python3.6/dist-packages (from spacy->fastai) (4.41.1)\n",
            "Requirement already satisfied: catalogue<1.1.0,>=0.0.7 in /usr/local/lib/python3.6/dist-packages (from spacy->fastai) (1.0.0)\n",
            "Requirement already satisfied: setuptools in /usr/local/lib/python3.6/dist-packages (from spacy->fastai) (50.3.2)\n",
            "Requirement already satisfied: plac<1.2.0,>=0.9.6 in /usr/local/lib/python3.6/dist-packages (from spacy->fastai) (1.1.3)\n",
            "Requirement already satisfied: wasabi<1.1.0,>=0.4.0 in /usr/local/lib/python3.6/dist-packages (from spacy->fastai) (0.8.0)\n",
            "Requirement already satisfied: preshed<3.1.0,>=3.0.2 in /usr/local/lib/python3.6/dist-packages (from spacy->fastai) (3.0.4)\n",
            "Requirement already satisfied: blis<0.5.0,>=0.4.0 in /usr/local/lib/python3.6/dist-packages (from spacy->fastai) (0.4.1)\n",
            "Requirement already satisfied: cymem<2.1.0,>=2.0.2 in /usr/local/lib/python3.6/dist-packages (from spacy->fastai) (2.0.4)\n",
            "Requirement already satisfied: joblib>=0.11 in /usr/local/lib/python3.6/dist-packages (from scikit-learn->fastai) (0.17.0)\n",
            "Requirement already satisfied: six in /usr/local/lib/python3.6/dist-packages (from packaging->fastai) (1.15.0)\n",
            "Requirement already satisfied: chardet<4,>=3.0.2 in /usr/local/lib/python3.6/dist-packages (from requests->fastai) (3.0.4)\n",
            "Requirement already satisfied: urllib3!=1.25.0,!=1.25.1,<1.26,>=1.21.1 in /usr/local/lib/python3.6/dist-packages (from requests->fastai) (1.24.3)\n",
            "Requirement already satisfied: idna<3,>=2.5 in /usr/local/lib/python3.6/dist-packages (from requests->fastai) (2.10)\n",
            "Requirement already satisfied: certifi>=2017.4.17 in /usr/local/lib/python3.6/dist-packages (from requests->fastai) (2020.11.8)\n",
            "Requirement already satisfied: importlib-metadata>=0.20; python_version < \"3.8\" in /usr/local/lib/python3.6/dist-packages (from catalogue<1.1.0,>=0.0.7->spacy->fastai) (2.0.0)\n",
            "Requirement already satisfied: zipp>=0.5 in /usr/local/lib/python3.6/dist-packages (from importlib-metadata>=0.20; python_version < \"3.8\"->catalogue<1.1.0,>=0.0.7->spacy->fastai) (3.4.0)\n",
            "Installing collected packages: torch, torchvision, fastai\n",
            "  Found existing installation: torch 1.6.0\n",
            "    Uninstalling torch-1.6.0:\n",
            "      Successfully uninstalled torch-1.6.0\n",
            "  Found existing installation: torchvision 0.7.0\n",
            "    Uninstalling torchvision-0.7.0:\n",
            "      Successfully uninstalled torchvision-0.7.0\n",
            "Successfully installed fastai-2.1.8 torch-1.7.0 torchvision-0.8.1\n"
          ],
          "name": "stdout"
        },
        {
          "output_type": "display_data",
          "data": {
            "application/vnd.colab-display-data+json": {
              "pip_warning": {
                "packages": [
                  "fastai",
                  "torch"
                ]
              }
            }
          },
          "metadata": {
            "tags": []
          }
        }
      ]
    },
    {
      "cell_type": "code",
      "metadata": {
        "id": "0wGohs6NRsOI",
        "colab": {
          "base_uri": "https://localhost:8080/"
        },
        "outputId": "1fe44aab-1b25-4f1d-9216-fa88e42c5028"
      },
      "source": [
        "!ls /usr/local/lib/python3.6/dist-packages/fastai"
      ],
      "execution_count": null,
      "outputs": [
        {
          "output_type": "stream",
          "text": [
            "basics.py\timports.py    losses.py     _pytorch_doc.py  torch_imports.py\n",
            "callback\t__init__.py   medical\t    tabular\t     vision\n",
            "collab.py\tinterpret.py  metrics.py    test_utils.py\n",
            "data\t\tlaunch.py     _nbdev.py     text\n",
            "distributed.py\tlayers.py     optimizer.py  torch_basics.py\n",
            "fp16_utils.py\tlearner.py    __pycache__   torch_core.py\n"
          ],
          "name": "stdout"
        }
      ]
    },
    {
      "cell_type": "code",
      "metadata": {
        "colab": {
          "base_uri": "https://localhost:8080/"
        },
        "id": "Q8zRIiNN84Tu",
        "outputId": "24884581-b844-4311-b102-0d5365b2afd0"
      },
      "source": [
        "!cat /usr/local/lib/python3.6/dist-packages/fastai/version.py"
      ],
      "execution_count": null,
      "outputs": [
        {
          "output_type": "stream",
          "text": [
            "__all__ = ['__version__']\n",
            "__version__ = '1.0.61'\n"
          ],
          "name": "stdout"
        }
      ]
    },
    {
      "cell_type": "markdown",
      "metadata": {
        "id": "zifUXd1RpWnF"
      },
      "source": [
        "version 2 should have text with version number in file below"
      ]
    },
    {
      "cell_type": "code",
      "metadata": {
        "id": "Lm7BSigk7B1z",
        "colab": {
          "base_uri": "https://localhost:8080/"
        },
        "outputId": "a7d22ee0-a760-4dd9-944f-ddbc8f12d708"
      },
      "source": [
        "!cat /usr/local/lib/python3.6/dist-packages/fastai/__init__.py"
      ],
      "execution_count": null,
      "outputs": [
        {
          "output_type": "stream",
          "text": [
            "__version__ = \"2.0.17\"\n",
            "\n"
          ],
          "name": "stdout"
        }
      ]
    },
    {
      "cell_type": "code",
      "metadata": {
        "colab": {
          "base_uri": "https://localhost:8080/"
        },
        "id": "VxHucxg0-fEe",
        "outputId": "c71cf795-756c-4f67-c9fa-d483ec55e1c3"
      },
      "source": [
        "!ls /usr/local/lib/python3.6/dist-packages/fastai/tabular/\n",
        "# !head 20 /usr/local/lib/python3.6/dist-packages/fastai/tabular/"
      ],
      "execution_count": null,
      "outputs": [
        {
          "output_type": "stream",
          "text": [
            "all.py\tcore.py  data.py  __init__.py  learner.py  model.py  __pycache__\n"
          ],
          "name": "stdout"
        }
      ]
    },
    {
      "cell_type": "markdown",
      "metadata": {
        "id": "CQ9RlQ2Upp0R"
      },
      "source": [
        "### mount google drive"
      ]
    },
    {
      "cell_type": "code",
      "metadata": {
        "id": "4OGzBEKgvd4l",
        "colab": {
          "base_uri": "https://localhost:8080/"
        },
        "outputId": "b8ab8189-97bb-4a2b-abed-b94d3776d213"
      },
      "source": [
        "# google drive if needed\n",
        "from google.colab import drive\n",
        "drive.mount('/content/drive')"
      ],
      "execution_count": null,
      "outputs": [
        {
          "output_type": "stream",
          "text": [
            "Mounted at /content/drive\n"
          ],
          "name": "stdout"
        }
      ]
    },
    {
      "cell_type": "markdown",
      "metadata": {
        "id": "Q3OlKvPHpxNg"
      },
      "source": [
        "### Load buldozer data\n",
        "You can download `Train.csv` from kaggle and then upload it to google drive."
      ]
    },
    {
      "cell_type": "code",
      "metadata": {
        "id": "_YpaUswxSfh1",
        "colab": {
          "base_uri": "https://localhost:8080/"
        },
        "outputId": "6288aa5a-9e07-422e-f5b3-40d5d6ddb80e"
      },
      "source": [
        "!ls  'drive/My Drive/Colab Notebooks/AIacademy/class-C/fast_ai/'"
      ],
      "execution_count": null,
      "outputs": [
        {
          "output_type": "stream",
          "text": [
            " data\t\t\t       functions.py\t        syntetic_data.ipynb\n",
            " fast-ai-random-forest.ipynb  'mnist fastai-v2.ipynb'   Test.csv\n",
            " fastai-v2-buldozers.ipynb    'Neural net.ipynb'        Train.csv\n"
          ],
          "name": "stdout"
        }
      ]
    },
    {
      "cell_type": "code",
      "metadata": {
        "id": "6B5JW1yUSi2r"
      },
      "source": [
        "buldozer_path = 'drive/My Drive/Colab Notebooks/AIacademy/class-C/fast_ai/'"
      ],
      "execution_count": null,
      "outputs": []
    },
    {
      "cell_type": "code",
      "metadata": {
        "id": "CR-Y2s1XSj2z",
        "colab": {
          "base_uri": "https://localhost:8080/"
        },
        "outputId": "a314b20e-56ec-42b4-ef41-0ea4d2914c8b"
      },
      "source": [
        "!head -2 'drive/My Drive/Colab Notebooks/AIacademy/class-C/fast_ai/Train.csv'"
      ],
      "execution_count": null,
      "outputs": [
        {
          "output_type": "stream",
          "text": [
            "SalesID,SalePrice,MachineID,ModelID,datasource,auctioneerID,YearMade,MachineHoursCurrentMeter,UsageBand,saledate,fiModelDesc,fiBaseModel,fiSecondaryDesc,fiModelSeries,fiModelDescriptor,ProductSize,fiProductClassDesc,state,ProductGroup,ProductGroupDesc,Drive_System,Enclosure,Forks,Pad_Type,Ride_Control,Stick,Transmission,Turbocharged,Blade_Extension,Blade_Width,Enclosure_Type,Engine_Horsepower,Hydraulics,Pushblock,Ripper,Scarifier,Tip_Control,Tire_Size,Coupler,Coupler_System,Grouser_Tracks,Hydraulics_Flow,Track_Type,Undercarriage_Pad_Width,Stick_Length,Thumb,Pattern_Changer,Grouser_Type,Backhoe_Mounting,Blade_Type,Travel_Controls,Differential_Type,Steering_Controls\r\n",
            "1139246,66000,999089,3157,121,3,2004,68,Low,11/16/2006 0:00,521D,521,D,,,,Wheel Loader - 110.0 to 120.0 Horsepower,Alabama,WL,Wheel Loader,,EROPS w AC,None or Unspecified,,None or Unspecified,,,,,,,,2 Valve,,,,,None or Unspecified,None or Unspecified,,,,,,,,,,,,,Standard,Conventional\r\n"
          ],
          "name": "stdout"
        }
      ]
    },
    {
      "cell_type": "markdown",
      "metadata": {
        "id": "JvZUkTabqCMB"
      },
      "source": [
        "Load from csv without optimization of memory usage by defining column types and sizes. Define only dates."
      ]
    },
    {
      "cell_type": "code",
      "metadata": {
        "id": "2V-2iYLsSmZy",
        "colab": {
          "base_uri": "https://localhost:8080/"
        },
        "outputId": "44c48605-7009-4aa9-f57e-eb5a3702a678"
      },
      "source": [
        "%%time\n",
        "df_raw = pd.read_csv(f'{buldozer_path}Train.csv', \n",
        "                     low_memory=False, parse_dates=[\"saledate\",\"YearMade\"])"
      ],
      "execution_count": null,
      "outputs": [
        {
          "output_type": "stream",
          "text": [
            "CPU times: user 3.58 s, sys: 549 ms, total: 4.13 s\n",
            "Wall time: 4.3 s\n"
          ],
          "name": "stdout"
        }
      ]
    },
    {
      "cell_type": "markdown",
      "metadata": {
        "id": "r7urXRU8TFFh"
      },
      "source": [
        "## First Exploration"
      ]
    },
    {
      "cell_type": "code",
      "metadata": {
        "id": "gaxNlt-eSq4E",
        "colab": {
          "base_uri": "https://localhost:8080/"
        },
        "outputId": "c0783189-df9a-4473-a810-3e5cf719fe9d"
      },
      "source": [
        "df_raw.shape"
      ],
      "execution_count": null,
      "outputs": [
        {
          "output_type": "execute_result",
          "data": {
            "text/plain": [
              "(401125, 53)"
            ]
          },
          "metadata": {
            "tags": []
          },
          "execution_count": 7
        }
      ]
    },
    {
      "cell_type": "code",
      "metadata": {
        "id": "tbc40mGDSxaD",
        "colab": {
          "base_uri": "https://localhost:8080/"
        },
        "outputId": "542db771-fb5e-4d89-c544-b10428dd69fc"
      },
      "source": [
        "df_raw.dtypes"
      ],
      "execution_count": null,
      "outputs": [
        {
          "output_type": "execute_result",
          "data": {
            "text/plain": [
              "SalesID                              int64\n",
              "SalePrice                            int64\n",
              "MachineID                            int64\n",
              "ModelID                              int64\n",
              "datasource                           int64\n",
              "auctioneerID                       float64\n",
              "YearMade                            object\n",
              "MachineHoursCurrentMeter           float64\n",
              "UsageBand                           object\n",
              "saledate                    datetime64[ns]\n",
              "fiModelDesc                         object\n",
              "fiBaseModel                         object\n",
              "fiSecondaryDesc                     object\n",
              "fiModelSeries                       object\n",
              "fiModelDescriptor                   object\n",
              "ProductSize                         object\n",
              "fiProductClassDesc                  object\n",
              "state                               object\n",
              "ProductGroup                        object\n",
              "ProductGroupDesc                    object\n",
              "Drive_System                        object\n",
              "Enclosure                           object\n",
              "Forks                               object\n",
              "Pad_Type                            object\n",
              "Ride_Control                        object\n",
              "Stick                               object\n",
              "Transmission                        object\n",
              "Turbocharged                        object\n",
              "Blade_Extension                     object\n",
              "Blade_Width                         object\n",
              "Enclosure_Type                      object\n",
              "Engine_Horsepower                   object\n",
              "Hydraulics                          object\n",
              "Pushblock                           object\n",
              "Ripper                              object\n",
              "Scarifier                           object\n",
              "Tip_Control                         object\n",
              "Tire_Size                           object\n",
              "Coupler                             object\n",
              "Coupler_System                      object\n",
              "Grouser_Tracks                      object\n",
              "Hydraulics_Flow                     object\n",
              "Track_Type                          object\n",
              "Undercarriage_Pad_Width             object\n",
              "Stick_Length                        object\n",
              "Thumb                               object\n",
              "Pattern_Changer                     object\n",
              "Grouser_Type                        object\n",
              "Backhoe_Mounting                    object\n",
              "Blade_Type                          object\n",
              "Travel_Controls                     object\n",
              "Differential_Type                   object\n",
              "Steering_Controls                   object\n",
              "dtype: object"
            ]
          },
          "metadata": {
            "tags": []
          },
          "execution_count": 8
        }
      ]
    },
    {
      "cell_type": "code",
      "metadata": {
        "id": "O-wy5nEd49S_",
        "colab": {
          "base_uri": "https://localhost:8080/"
        },
        "outputId": "df01a654-8062-4aec-dc40-c6a5191350d8"
      },
      "source": [
        "df_raw.dtypes.value_counts()"
      ],
      "execution_count": null,
      "outputs": [
        {
          "output_type": "execute_result",
          "data": {
            "text/plain": [
              "object            45\n",
              "int64              5\n",
              "float64            2\n",
              "datetime64[ns]     1\n",
              "dtype: int64"
            ]
          },
          "metadata": {
            "tags": []
          },
          "execution_count": 9
        }
      ]
    },
    {
      "cell_type": "markdown",
      "metadata": {
        "id": "XUxPyPmoXcR_"
      },
      "source": [
        "## First transformations"
      ]
    },
    {
      "cell_type": "markdown",
      "metadata": {
        "id": "ltvQMsvpLL3N"
      },
      "source": [
        "### Log Y values 'salesPrice'"
      ]
    },
    {
      "cell_type": "code",
      "metadata": {
        "colab": {
          "base_uri": "https://localhost:8080/"
        },
        "id": "UlXypx07Lnhe",
        "outputId": "aecaceda-0e94-4490-84c7-9c14e9fbeff5"
      },
      "source": [
        "df_raw.SalePrice.iloc[:3]"
      ],
      "execution_count": null,
      "outputs": [
        {
          "output_type": "execute_result",
          "data": {
            "text/plain": [
              "0    66000\n",
              "1    57000\n",
              "2    10000\n",
              "Name: SalePrice, dtype: int64"
            ]
          },
          "metadata": {
            "tags": []
          },
          "execution_count": 18
        }
      ]
    },
    {
      "cell_type": "code",
      "metadata": {
        "id": "xi9UZiiQLQew",
        "colab": {
          "base_uri": "https://localhost:8080/"
        },
        "outputId": "43e3e834-b789-4e7d-b6eb-34da8f8e67da"
      },
      "source": [
        "df_raw['SalePrice'] = np.log(df_raw.SalePrice)\n",
        "df_raw.SalePrice.iloc[:3]"
      ],
      "execution_count": null,
      "outputs": [
        {
          "output_type": "execute_result",
          "data": {
            "text/plain": [
              "0    11.097410\n",
              "1    10.950807\n",
              "2     9.210340\n",
              "Name: SalePrice, dtype: float64"
            ]
          },
          "metadata": {
            "tags": []
          },
          "execution_count": 17
        }
      ]
    },
    {
      "cell_type": "markdown",
      "metadata": {
        "id": "m3l2iHMs-evV"
      },
      "source": [
        "### FastAI `shrink` dataframe\n",
        "minimize column data types and convert `object` columns into categories (kind of `train_cats`)"
      ]
    },
    {
      "cell_type": "code",
      "metadata": {
        "id": "BRXQNfgt-jWF",
        "colab": {
          "base_uri": "https://localhost:8080/"
        },
        "outputId": "1c701d0d-f56b-4393-d343-98d633585717"
      },
      "source": [
        "# fastai.tabular.core\n",
        "%time df = df_shrink(df_raw, skip=['YearMade','saledate'])"
      ],
      "execution_count": null,
      "outputs": [
        {
          "output_type": "stream",
          "text": [
            "CPU times: user 964 ms, sys: 399 ms, total: 1.36 s\n",
            "Wall time: 1.37 s\n"
          ],
          "name": "stdout"
        }
      ]
    },
    {
      "cell_type": "markdown",
      "metadata": {
        "id": "rbkyCCo0ud6l"
      },
      "source": [
        "below is check for the types of columns."
      ]
    },
    {
      "cell_type": "code",
      "metadata": {
        "id": "bNNbDF6x_c9V",
        "colab": {
          "base_uri": "https://localhost:8080/"
        },
        "outputId": "76025127-3d0e-4f01-fbed-7d8cbf99b82b"
      },
      "source": [
        "# df_raw.dtypes\n",
        "df_raw.value_counts()"
      ],
      "execution_count": null,
      "outputs": [
        {
          "output_type": "execute_result",
          "data": {
            "text/plain": [
              "Series([], dtype: int64)"
            ]
          },
          "metadata": {
            "tags": []
          },
          "execution_count": 19
        }
      ]
    },
    {
      "cell_type": "code",
      "metadata": {
        "id": "NiD71Xzg_MUg",
        "colab": {
          "base_uri": "https://localhost:8080/"
        },
        "outputId": "4a1569a1-8aa9-482a-e01a-6cf2d6ac421c"
      },
      "source": [
        "# df.dtypes\n",
        "df.value_counts()"
      ],
      "execution_count": null,
      "outputs": [
        {
          "output_type": "execute_result",
          "data": {
            "text/plain": [
              "Series([], dtype: int64)"
            ]
          },
          "metadata": {
            "tags": []
          },
          "execution_count": 12
        }
      ]
    },
    {
      "cell_type": "markdown",
      "metadata": {
        "id": "vN0nrsHYXnDx"
      },
      "source": [
        "### Find categories 'object' columns for `fastAI` processing"
      ]
    },
    {
      "cell_type": "code",
      "metadata": {
        "id": "Qf6Z9BGe-Hby",
        "colab": {
          "base_uri": "https://localhost:8080/"
        },
        "outputId": "7c70741e-4f71-42b8-a28a-aef2a5633d20"
      },
      "source": [
        "cont_names, cat_names = cont_cat_split(df_raw)\n",
        "print(cont_names)\n",
        "print(cat_names)"
      ],
      "execution_count": null,
      "outputs": [
        {
          "output_type": "stream",
          "text": [
            "['SalesID', 'SalePrice', 'MachineID', 'ModelID', 'auctioneerID', 'MachineHoursCurrentMeter']\n",
            "['datasource', 'YearMade', 'UsageBand', 'saledate', 'fiModelDesc', 'fiBaseModel', 'fiSecondaryDesc', 'fiModelSeries', 'fiModelDescriptor', 'ProductSize', 'fiProductClassDesc', 'state', 'ProductGroup', 'ProductGroupDesc', 'Drive_System', 'Enclosure', 'Forks', 'Pad_Type', 'Ride_Control', 'Stick', 'Transmission', 'Turbocharged', 'Blade_Extension', 'Blade_Width', 'Enclosure_Type', 'Engine_Horsepower', 'Hydraulics', 'Pushblock', 'Ripper', 'Scarifier', 'Tip_Control', 'Tire_Size', 'Coupler', 'Coupler_System', 'Grouser_Tracks', 'Hydraulics_Flow', 'Track_Type', 'Undercarriage_Pad_Width', 'Stick_Length', 'Thumb', 'Pattern_Changer', 'Grouser_Type', 'Backhoe_Mounting', 'Blade_Type', 'Travel_Controls', 'Differential_Type', 'Steering_Controls']\n"
          ],
          "name": "stdout"
        }
      ]
    },
    {
      "cell_type": "markdown",
      "metadata": {
        "id": "GqY52Rtgrshu"
      },
      "source": [
        "Normalize is removed as we will do `RandomForest` not neural nets."
      ]
    },
    {
      "cell_type": "code",
      "metadata": {
        "id": "MXPb4CD9GfVT"
      },
      "source": [
        "procs = [Categorify, FillMissing] #, Normalize]"
      ],
      "execution_count": null,
      "outputs": []
    },
    {
      "cell_type": "markdown",
      "metadata": {
        "id": "uxvjvIy_GVeA"
      },
      "source": [
        "# Data splits"
      ]
    },
    {
      "cell_type": "markdown",
      "metadata": {
        "id": "2qvSZhPkSOOC"
      },
      "source": [
        "## Manual split: dependend / independend"
      ]
    },
    {
      "cell_type": "code",
      "metadata": {
        "id": "4U9bXLlIS6V7"
      },
      "source": [
        "df_train, df_test = df.iloc[:300000].copy(), df.iloc[300000:].copy()"
      ],
      "execution_count": null,
      "outputs": []
    },
    {
      "cell_type": "code",
      "metadata": {
        "colab": {
          "base_uri": "https://localhost:8080/"
        },
        "id": "tsX-w2UmSckx",
        "outputId": "233e584e-e18e-4386-c0bd-c86dcc7eb7d9"
      },
      "source": [
        "df_test.SalePrice.iloc[:3]"
      ],
      "execution_count": null,
      "outputs": [
        {
          "output_type": "execute_result",
          "data": {
            "text/plain": [
              "300000    10.434115\n",
              "300001     9.798127\n",
              "300002    10.146434\n",
              "Name: SalePrice, dtype: float32"
            ]
          },
          "metadata": {
            "tags": []
          },
          "execution_count": 21
        }
      ]
    },
    {
      "cell_type": "code",
      "metadata": {
        "id": "EaauXfXKIues"
      },
      "source": [
        "Y_train = df_train.SalePrice\n",
        "x_train = df_train.drop('SalePrice', axis=1)"
      ],
      "execution_count": null,
      "outputs": []
    },
    {
      "cell_type": "code",
      "metadata": {
        "id": "7SiDiDD2SGlS"
      },
      "source": [
        "Y_test = df_test.SalePrice\n",
        "x_test = df_test.drop('SalePrice', axis=1)"
      ],
      "execution_count": null,
      "outputs": []
    },
    {
      "cell_type": "code",
      "metadata": {
        "colab": {
          "base_uri": "https://localhost:8080/"
        },
        "id": "9tn6xKKXRKAV",
        "outputId": "ffa02d4b-a8fe-4af4-be22-838f16d40520"
      },
      "source": [
        "Y_train.head(3)"
      ],
      "execution_count": null,
      "outputs": [
        {
          "output_type": "execute_result",
          "data": {
            "text/plain": [
              "0    11.097410\n",
              "1    10.950807\n",
              "2     9.210340\n",
              "Name: SalePrice, dtype: float32"
            ]
          },
          "metadata": {
            "tags": []
          },
          "execution_count": 24
        }
      ]
    },
    {
      "cell_type": "markdown",
      "metadata": {
        "id": "j9Qhuwn1K0kq"
      },
      "source": [
        "## SKlearn split"
      ]
    },
    {
      "cell_type": "code",
      "metadata": {
        "id": "QEtSRaLdK30W"
      },
      "source": [
        "from sklearn.model_selection import train_test_split"
      ],
      "execution_count": null,
      "outputs": []
    },
    {
      "cell_type": "code",
      "metadata": {
        "id": "bq2XyGDBK7q_"
      },
      "source": [
        "# TODO need to test\n",
        "train_X, val_X, train_y, val_y = train_test_split(X, y, random_state = 0)"
      ],
      "execution_count": null,
      "outputs": []
    },
    {
      "cell_type": "code",
      "metadata": {
        "id": "dvkFaSCkdPfR",
        "colab": {
          "base_uri": "https://localhost:8080/"
        },
        "outputId": "1cb0ea15-f8a9-4d16-beba-6f2ac92bfd5f"
      },
      "source": [
        "type(df_train)"
      ],
      "execution_count": null,
      "outputs": [
        {
          "output_type": "execute_result",
          "data": {
            "text/plain": [
              "pandas.core.frame.DataFrame"
            ]
          },
          "metadata": {
            "tags": []
          },
          "execution_count": 25
        }
      ]
    },
    {
      "cell_type": "code",
      "metadata": {
        "id": "48Mza9codSnq",
        "colab": {
          "base_uri": "https://localhost:8080/",
          "height": 231
        },
        "outputId": "cdf77c75-5e83-4cae-f790-a00866838c60"
      },
      "source": [
        "df_train.head(3)"
      ],
      "execution_count": null,
      "outputs": [
        {
          "output_type": "execute_result",
          "data": {
            "text/html": [
              "<div>\n",
              "<style scoped>\n",
              "    .dataframe tbody tr th:only-of-type {\n",
              "        vertical-align: middle;\n",
              "    }\n",
              "\n",
              "    .dataframe tbody tr th {\n",
              "        vertical-align: top;\n",
              "    }\n",
              "\n",
              "    .dataframe thead th {\n",
              "        text-align: right;\n",
              "    }\n",
              "</style>\n",
              "<table border=\"1\" class=\"dataframe\">\n",
              "  <thead>\n",
              "    <tr style=\"text-align: right;\">\n",
              "      <th></th>\n",
              "      <th>SalesID</th>\n",
              "      <th>SalePrice</th>\n",
              "      <th>MachineID</th>\n",
              "      <th>ModelID</th>\n",
              "      <th>datasource</th>\n",
              "      <th>auctioneerID</th>\n",
              "      <th>YearMade</th>\n",
              "      <th>MachineHoursCurrentMeter</th>\n",
              "      <th>UsageBand</th>\n",
              "      <th>saledate</th>\n",
              "      <th>fiModelDesc</th>\n",
              "      <th>fiBaseModel</th>\n",
              "      <th>fiSecondaryDesc</th>\n",
              "      <th>fiModelSeries</th>\n",
              "      <th>fiModelDescriptor</th>\n",
              "      <th>ProductSize</th>\n",
              "      <th>fiProductClassDesc</th>\n",
              "      <th>state</th>\n",
              "      <th>ProductGroup</th>\n",
              "      <th>ProductGroupDesc</th>\n",
              "      <th>Drive_System</th>\n",
              "      <th>Enclosure</th>\n",
              "      <th>Forks</th>\n",
              "      <th>Pad_Type</th>\n",
              "      <th>Ride_Control</th>\n",
              "      <th>Stick</th>\n",
              "      <th>Transmission</th>\n",
              "      <th>Turbocharged</th>\n",
              "      <th>Blade_Extension</th>\n",
              "      <th>Blade_Width</th>\n",
              "      <th>Enclosure_Type</th>\n",
              "      <th>Engine_Horsepower</th>\n",
              "      <th>Hydraulics</th>\n",
              "      <th>Pushblock</th>\n",
              "      <th>Ripper</th>\n",
              "      <th>Scarifier</th>\n",
              "      <th>Tip_Control</th>\n",
              "      <th>Tire_Size</th>\n",
              "      <th>Coupler</th>\n",
              "      <th>Coupler_System</th>\n",
              "      <th>Grouser_Tracks</th>\n",
              "      <th>Hydraulics_Flow</th>\n",
              "      <th>Track_Type</th>\n",
              "      <th>Undercarriage_Pad_Width</th>\n",
              "      <th>Stick_Length</th>\n",
              "      <th>Thumb</th>\n",
              "      <th>Pattern_Changer</th>\n",
              "      <th>Grouser_Type</th>\n",
              "      <th>Backhoe_Mounting</th>\n",
              "      <th>Blade_Type</th>\n",
              "      <th>Travel_Controls</th>\n",
              "      <th>Differential_Type</th>\n",
              "      <th>Steering_Controls</th>\n",
              "    </tr>\n",
              "  </thead>\n",
              "  <tbody>\n",
              "    <tr>\n",
              "      <th>0</th>\n",
              "      <td>1139246</td>\n",
              "      <td>11.097410</td>\n",
              "      <td>999089</td>\n",
              "      <td>3157</td>\n",
              "      <td>121</td>\n",
              "      <td>3.0</td>\n",
              "      <td>2004</td>\n",
              "      <td>68.0</td>\n",
              "      <td>Low</td>\n",
              "      <td>2006-11-16</td>\n",
              "      <td>521D</td>\n",
              "      <td>521</td>\n",
              "      <td>D</td>\n",
              "      <td>NaN</td>\n",
              "      <td>NaN</td>\n",
              "      <td>NaN</td>\n",
              "      <td>Wheel Loader - 110.0 to 120.0 Horsepower</td>\n",
              "      <td>Alabama</td>\n",
              "      <td>WL</td>\n",
              "      <td>Wheel Loader</td>\n",
              "      <td>NaN</td>\n",
              "      <td>EROPS w AC</td>\n",
              "      <td>None or Unspecified</td>\n",
              "      <td>NaN</td>\n",
              "      <td>None or Unspecified</td>\n",
              "      <td>NaN</td>\n",
              "      <td>NaN</td>\n",
              "      <td>NaN</td>\n",
              "      <td>NaN</td>\n",
              "      <td>NaN</td>\n",
              "      <td>NaN</td>\n",
              "      <td>NaN</td>\n",
              "      <td>2 Valve</td>\n",
              "      <td>NaN</td>\n",
              "      <td>NaN</td>\n",
              "      <td>NaN</td>\n",
              "      <td>NaN</td>\n",
              "      <td>None or Unspecified</td>\n",
              "      <td>None or Unspecified</td>\n",
              "      <td>NaN</td>\n",
              "      <td>NaN</td>\n",
              "      <td>NaN</td>\n",
              "      <td>NaN</td>\n",
              "      <td>NaN</td>\n",
              "      <td>NaN</td>\n",
              "      <td>NaN</td>\n",
              "      <td>NaN</td>\n",
              "      <td>NaN</td>\n",
              "      <td>NaN</td>\n",
              "      <td>NaN</td>\n",
              "      <td>NaN</td>\n",
              "      <td>Standard</td>\n",
              "      <td>Conventional</td>\n",
              "    </tr>\n",
              "    <tr>\n",
              "      <th>1</th>\n",
              "      <td>1139248</td>\n",
              "      <td>10.950807</td>\n",
              "      <td>117657</td>\n",
              "      <td>77</td>\n",
              "      <td>121</td>\n",
              "      <td>3.0</td>\n",
              "      <td>1996</td>\n",
              "      <td>4640.0</td>\n",
              "      <td>Low</td>\n",
              "      <td>2004-03-26</td>\n",
              "      <td>950FII</td>\n",
              "      <td>950</td>\n",
              "      <td>F</td>\n",
              "      <td>II</td>\n",
              "      <td>NaN</td>\n",
              "      <td>Medium</td>\n",
              "      <td>Wheel Loader - 150.0 to 175.0 Horsepower</td>\n",
              "      <td>North Carolina</td>\n",
              "      <td>WL</td>\n",
              "      <td>Wheel Loader</td>\n",
              "      <td>NaN</td>\n",
              "      <td>EROPS w AC</td>\n",
              "      <td>None or Unspecified</td>\n",
              "      <td>NaN</td>\n",
              "      <td>None or Unspecified</td>\n",
              "      <td>NaN</td>\n",
              "      <td>NaN</td>\n",
              "      <td>NaN</td>\n",
              "      <td>NaN</td>\n",
              "      <td>NaN</td>\n",
              "      <td>NaN</td>\n",
              "      <td>NaN</td>\n",
              "      <td>2 Valve</td>\n",
              "      <td>NaN</td>\n",
              "      <td>NaN</td>\n",
              "      <td>NaN</td>\n",
              "      <td>NaN</td>\n",
              "      <td>23.5</td>\n",
              "      <td>None or Unspecified</td>\n",
              "      <td>NaN</td>\n",
              "      <td>NaN</td>\n",
              "      <td>NaN</td>\n",
              "      <td>NaN</td>\n",
              "      <td>NaN</td>\n",
              "      <td>NaN</td>\n",
              "      <td>NaN</td>\n",
              "      <td>NaN</td>\n",
              "      <td>NaN</td>\n",
              "      <td>NaN</td>\n",
              "      <td>NaN</td>\n",
              "      <td>NaN</td>\n",
              "      <td>Standard</td>\n",
              "      <td>Conventional</td>\n",
              "    </tr>\n",
              "    <tr>\n",
              "      <th>2</th>\n",
              "      <td>1139249</td>\n",
              "      <td>9.210340</td>\n",
              "      <td>434808</td>\n",
              "      <td>7009</td>\n",
              "      <td>121</td>\n",
              "      <td>3.0</td>\n",
              "      <td>2001</td>\n",
              "      <td>2838.0</td>\n",
              "      <td>High</td>\n",
              "      <td>2004-02-26</td>\n",
              "      <td>226</td>\n",
              "      <td>226</td>\n",
              "      <td>NaN</td>\n",
              "      <td>NaN</td>\n",
              "      <td>NaN</td>\n",
              "      <td>NaN</td>\n",
              "      <td>Skid Steer Loader - 1351.0 to 1601.0 Lb Operating Capacity</td>\n",
              "      <td>New York</td>\n",
              "      <td>SSL</td>\n",
              "      <td>Skid Steer Loaders</td>\n",
              "      <td>NaN</td>\n",
              "      <td>OROPS</td>\n",
              "      <td>None or Unspecified</td>\n",
              "      <td>NaN</td>\n",
              "      <td>NaN</td>\n",
              "      <td>NaN</td>\n",
              "      <td>NaN</td>\n",
              "      <td>NaN</td>\n",
              "      <td>NaN</td>\n",
              "      <td>NaN</td>\n",
              "      <td>NaN</td>\n",
              "      <td>NaN</td>\n",
              "      <td>Auxiliary</td>\n",
              "      <td>NaN</td>\n",
              "      <td>NaN</td>\n",
              "      <td>NaN</td>\n",
              "      <td>NaN</td>\n",
              "      <td>NaN</td>\n",
              "      <td>None or Unspecified</td>\n",
              "      <td>None or Unspecified</td>\n",
              "      <td>None or Unspecified</td>\n",
              "      <td>Standard</td>\n",
              "      <td>NaN</td>\n",
              "      <td>NaN</td>\n",
              "      <td>NaN</td>\n",
              "      <td>NaN</td>\n",
              "      <td>NaN</td>\n",
              "      <td>NaN</td>\n",
              "      <td>NaN</td>\n",
              "      <td>NaN</td>\n",
              "      <td>NaN</td>\n",
              "      <td>NaN</td>\n",
              "      <td>NaN</td>\n",
              "    </tr>\n",
              "  </tbody>\n",
              "</table>\n",
              "</div>"
            ],
            "text/plain": [
              "   SalesID  SalePrice  ...  Differential_Type  Steering_Controls\n",
              "0  1139246  11.097410  ...           Standard       Conventional\n",
              "1  1139248  10.950807  ...           Standard       Conventional\n",
              "2  1139249   9.210340  ...                NaN                NaN\n",
              "\n",
              "[3 rows x 53 columns]"
            ]
          },
          "metadata": {
            "tags": []
          },
          "execution_count": 26
        }
      ]
    },
    {
      "cell_type": "code",
      "metadata": {
        "id": "rGez6NjNY4TT"
      },
      "source": [
        "df_test.drop(['SalePrice'], axis=1, inplace=True)"
      ],
      "execution_count": null,
      "outputs": []
    },
    {
      "cell_type": "code",
      "metadata": {
        "id": "J1NaazaOZJrH",
        "colab": {
          "base_uri": "https://localhost:8080/",
          "height": 265
        },
        "outputId": "d154e7d4-1226-4098-cc74-f0961d44b6e4"
      },
      "source": [
        "df_test.head(3)"
      ],
      "execution_count": null,
      "outputs": [
        {
          "output_type": "execute_result",
          "data": {
            "text/html": [
              "<div>\n",
              "<style scoped>\n",
              "    .dataframe tbody tr th:only-of-type {\n",
              "        vertical-align: middle;\n",
              "    }\n",
              "\n",
              "    .dataframe tbody tr th {\n",
              "        vertical-align: top;\n",
              "    }\n",
              "\n",
              "    .dataframe thead th {\n",
              "        text-align: right;\n",
              "    }\n",
              "</style>\n",
              "<table border=\"1\" class=\"dataframe\">\n",
              "  <thead>\n",
              "    <tr style=\"text-align: right;\">\n",
              "      <th></th>\n",
              "      <th>SalesID</th>\n",
              "      <th>MachineID</th>\n",
              "      <th>ModelID</th>\n",
              "      <th>datasource</th>\n",
              "      <th>auctioneerID</th>\n",
              "      <th>YearMade</th>\n",
              "      <th>MachineHoursCurrentMeter</th>\n",
              "      <th>UsageBand</th>\n",
              "      <th>saledate</th>\n",
              "      <th>fiModelDesc</th>\n",
              "      <th>fiBaseModel</th>\n",
              "      <th>fiSecondaryDesc</th>\n",
              "      <th>fiModelSeries</th>\n",
              "      <th>fiModelDescriptor</th>\n",
              "      <th>ProductSize</th>\n",
              "      <th>fiProductClassDesc</th>\n",
              "      <th>state</th>\n",
              "      <th>ProductGroup</th>\n",
              "      <th>ProductGroupDesc</th>\n",
              "      <th>Drive_System</th>\n",
              "      <th>Enclosure</th>\n",
              "      <th>Forks</th>\n",
              "      <th>Pad_Type</th>\n",
              "      <th>Ride_Control</th>\n",
              "      <th>Stick</th>\n",
              "      <th>Transmission</th>\n",
              "      <th>Turbocharged</th>\n",
              "      <th>Blade_Extension</th>\n",
              "      <th>Blade_Width</th>\n",
              "      <th>Enclosure_Type</th>\n",
              "      <th>Engine_Horsepower</th>\n",
              "      <th>Hydraulics</th>\n",
              "      <th>Pushblock</th>\n",
              "      <th>Ripper</th>\n",
              "      <th>Scarifier</th>\n",
              "      <th>Tip_Control</th>\n",
              "      <th>Tire_Size</th>\n",
              "      <th>Coupler</th>\n",
              "      <th>Coupler_System</th>\n",
              "      <th>Grouser_Tracks</th>\n",
              "      <th>Hydraulics_Flow</th>\n",
              "      <th>Track_Type</th>\n",
              "      <th>Undercarriage_Pad_Width</th>\n",
              "      <th>Stick_Length</th>\n",
              "      <th>Thumb</th>\n",
              "      <th>Pattern_Changer</th>\n",
              "      <th>Grouser_Type</th>\n",
              "      <th>Backhoe_Mounting</th>\n",
              "      <th>Blade_Type</th>\n",
              "      <th>Travel_Controls</th>\n",
              "      <th>Differential_Type</th>\n",
              "      <th>Steering_Controls</th>\n",
              "    </tr>\n",
              "  </thead>\n",
              "  <tbody>\n",
              "    <tr>\n",
              "      <th>300000</th>\n",
              "      <td>2241104</td>\n",
              "      <td>285987</td>\n",
              "      <td>13776</td>\n",
              "      <td>136</td>\n",
              "      <td>NaN</td>\n",
              "      <td>2000</td>\n",
              "      <td>0.0</td>\n",
              "      <td>NaN</td>\n",
              "      <td>2007-05-11</td>\n",
              "      <td>D3CIIIXL</td>\n",
              "      <td>D3</td>\n",
              "      <td>C</td>\n",
              "      <td>III</td>\n",
              "      <td>XL</td>\n",
              "      <td>NaN</td>\n",
              "      <td>Track Type Tractor, Dozer - 20.0 to 75.0 Horsepower</td>\n",
              "      <td>Virginia</td>\n",
              "      <td>TTT</td>\n",
              "      <td>Track Type Tractors</td>\n",
              "      <td>NaN</td>\n",
              "      <td>OROPS</td>\n",
              "      <td>NaN</td>\n",
              "      <td>NaN</td>\n",
              "      <td>NaN</td>\n",
              "      <td>NaN</td>\n",
              "      <td>Hydrostatic</td>\n",
              "      <td>NaN</td>\n",
              "      <td>NaN</td>\n",
              "      <td>NaN</td>\n",
              "      <td>NaN</td>\n",
              "      <td>NaN</td>\n",
              "      <td>2 Valve</td>\n",
              "      <td>NaN</td>\n",
              "      <td>None or Unspecified</td>\n",
              "      <td>NaN</td>\n",
              "      <td>NaN</td>\n",
              "      <td>NaN</td>\n",
              "      <td>NaN</td>\n",
              "      <td>NaN</td>\n",
              "      <td>NaN</td>\n",
              "      <td>NaN</td>\n",
              "      <td>NaN</td>\n",
              "      <td>NaN</td>\n",
              "      <td>NaN</td>\n",
              "      <td>NaN</td>\n",
              "      <td>NaN</td>\n",
              "      <td>NaN</td>\n",
              "      <td>None or Unspecified</td>\n",
              "      <td>None or Unspecified</td>\n",
              "      <td>None or Unspecified</td>\n",
              "      <td>NaN</td>\n",
              "      <td>NaN</td>\n",
              "    </tr>\n",
              "    <tr>\n",
              "      <th>300001</th>\n",
              "      <td>2241111</td>\n",
              "      <td>115917</td>\n",
              "      <td>13776</td>\n",
              "      <td>136</td>\n",
              "      <td>1.0</td>\n",
              "      <td>2001</td>\n",
              "      <td>0.0</td>\n",
              "      <td>NaN</td>\n",
              "      <td>2010-06-30</td>\n",
              "      <td>D3CIIIXL</td>\n",
              "      <td>D3</td>\n",
              "      <td>C</td>\n",
              "      <td>III</td>\n",
              "      <td>XL</td>\n",
              "      <td>NaN</td>\n",
              "      <td>Track Type Tractor, Dozer - 20.0 to 75.0 Horsepower</td>\n",
              "      <td>North Carolina</td>\n",
              "      <td>TTT</td>\n",
              "      <td>Track Type Tractors</td>\n",
              "      <td>NaN</td>\n",
              "      <td>OROPS</td>\n",
              "      <td>NaN</td>\n",
              "      <td>NaN</td>\n",
              "      <td>NaN</td>\n",
              "      <td>NaN</td>\n",
              "      <td>Standard</td>\n",
              "      <td>NaN</td>\n",
              "      <td>NaN</td>\n",
              "      <td>NaN</td>\n",
              "      <td>NaN</td>\n",
              "      <td>NaN</td>\n",
              "      <td>2 Valve</td>\n",
              "      <td>NaN</td>\n",
              "      <td>None or Unspecified</td>\n",
              "      <td>NaN</td>\n",
              "      <td>NaN</td>\n",
              "      <td>NaN</td>\n",
              "      <td>NaN</td>\n",
              "      <td>NaN</td>\n",
              "      <td>NaN</td>\n",
              "      <td>NaN</td>\n",
              "      <td>NaN</td>\n",
              "      <td>NaN</td>\n",
              "      <td>NaN</td>\n",
              "      <td>NaN</td>\n",
              "      <td>NaN</td>\n",
              "      <td>NaN</td>\n",
              "      <td>None or Unspecified</td>\n",
              "      <td>PAT</td>\n",
              "      <td>None or Unspecified</td>\n",
              "      <td>NaN</td>\n",
              "      <td>NaN</td>\n",
              "    </tr>\n",
              "    <tr>\n",
              "      <th>300002</th>\n",
              "      <td>2241112</td>\n",
              "      <td>1714094</td>\n",
              "      <td>13776</td>\n",
              "      <td>136</td>\n",
              "      <td>NaN</td>\n",
              "      <td>1999</td>\n",
              "      <td>0.0</td>\n",
              "      <td>NaN</td>\n",
              "      <td>2007-07-14</td>\n",
              "      <td>D3CIIIXL</td>\n",
              "      <td>D3</td>\n",
              "      <td>C</td>\n",
              "      <td>III</td>\n",
              "      <td>XL</td>\n",
              "      <td>NaN</td>\n",
              "      <td>Track Type Tractor, Dozer - 20.0 to 75.0 Horsepower</td>\n",
              "      <td>New York</td>\n",
              "      <td>TTT</td>\n",
              "      <td>Track Type Tractors</td>\n",
              "      <td>NaN</td>\n",
              "      <td>OROPS</td>\n",
              "      <td>NaN</td>\n",
              "      <td>NaN</td>\n",
              "      <td>NaN</td>\n",
              "      <td>NaN</td>\n",
              "      <td>Standard</td>\n",
              "      <td>NaN</td>\n",
              "      <td>NaN</td>\n",
              "      <td>NaN</td>\n",
              "      <td>NaN</td>\n",
              "      <td>NaN</td>\n",
              "      <td>2 Valve</td>\n",
              "      <td>NaN</td>\n",
              "      <td>None or Unspecified</td>\n",
              "      <td>NaN</td>\n",
              "      <td>NaN</td>\n",
              "      <td>NaN</td>\n",
              "      <td>NaN</td>\n",
              "      <td>NaN</td>\n",
              "      <td>NaN</td>\n",
              "      <td>NaN</td>\n",
              "      <td>NaN</td>\n",
              "      <td>NaN</td>\n",
              "      <td>NaN</td>\n",
              "      <td>NaN</td>\n",
              "      <td>NaN</td>\n",
              "      <td>NaN</td>\n",
              "      <td>None or Unspecified</td>\n",
              "      <td>PAT</td>\n",
              "      <td>None or Unspecified</td>\n",
              "      <td>NaN</td>\n",
              "      <td>NaN</td>\n",
              "    </tr>\n",
              "  </tbody>\n",
              "</table>\n",
              "</div>"
            ],
            "text/plain": [
              "        SalesID  MachineID  ...  Differential_Type  Steering_Controls\n",
              "300000  2241104     285987  ...                NaN                NaN\n",
              "300001  2241111     115917  ...                NaN                NaN\n",
              "300002  2241112    1714094  ...                NaN                NaN\n",
              "\n",
              "[3 rows x 52 columns]"
            ]
          },
          "metadata": {
            "tags": []
          },
          "execution_count": 28
        }
      ]
    },
    {
      "cell_type": "markdown",
      "metadata": {
        "id": "jodPg_STPmXh"
      },
      "source": [
        "## Fast AI"
      ]
    },
    {
      "cell_type": "code",
      "metadata": {
        "id": "vV4UV-vRATN0",
        "colab": {
          "base_uri": "https://localhost:8080/",
          "height": 180
        },
        "outputId": "c66fdf58-aa70-4383-de2c-2e9e807707fe"
      },
      "source": [
        "# splits = RandomSplitter()(range_of(df_train))\n",
        "splits = RandomSplitter(valid_pct=0.2)(range_of(df_raw))"
      ],
      "execution_count": null,
      "outputs": [
        {
          "output_type": "error",
          "ename": "NameError",
          "evalue": "ignored",
          "traceback": [
            "\u001b[0;31m---------------------------------------------------------------------------\u001b[0m",
            "\u001b[0;31mNameError\u001b[0m                                 Traceback (most recent call last)",
            "\u001b[0;32m<ipython-input-24-681038ae6706>\u001b[0m in \u001b[0;36m<module>\u001b[0;34m()\u001b[0m\n\u001b[1;32m      1\u001b[0m \u001b[0;31m# splits = RandomSplitter()(range_of(df_train))\u001b[0m\u001b[0;34m\u001b[0m\u001b[0;34m\u001b[0m\u001b[0;34m\u001b[0m\u001b[0m\n\u001b[0;32m----> 2\u001b[0;31m \u001b[0msplits\u001b[0m \u001b[0;34m=\u001b[0m \u001b[0mRandomSplitter\u001b[0m\u001b[0;34m(\u001b[0m\u001b[0mvalid_pct\u001b[0m\u001b[0;34m=\u001b[0m\u001b[0;36m0.2\u001b[0m\u001b[0;34m)\u001b[0m\u001b[0;34m(\u001b[0m\u001b[0mrange_of\u001b[0m\u001b[0;34m(\u001b[0m\u001b[0mdf_raw\u001b[0m\u001b[0;34m)\u001b[0m\u001b[0;34m)\u001b[0m\u001b[0;34m\u001b[0m\u001b[0;34m\u001b[0m\u001b[0m\n\u001b[0m",
            "\u001b[0;31mNameError\u001b[0m: name 'RandomSplitter' is not defined"
          ]
        }
      ]
    },
    {
      "cell_type": "code",
      "metadata": {
        "id": "d_CIbJAPdHij",
        "colab": {
          "base_uri": "https://localhost:8080/"
        },
        "outputId": "369d7db0-f48e-439d-9035-0794a3d0ca7a"
      },
      "source": [
        "type(splits)"
      ],
      "execution_count": null,
      "outputs": [
        {
          "output_type": "execute_result",
          "data": {
            "text/plain": [
              "tuple"
            ]
          },
          "metadata": {
            "tags": []
          },
          "execution_count": 61
        }
      ]
    },
    {
      "cell_type": "code",
      "metadata": {
        "id": "Z0jrPgv6dKks",
        "colab": {
          "base_uri": "https://localhost:8080/"
        },
        "outputId": "077ace69-15a5-4f4b-8a31-f7916b63175e"
      },
      "source": [
        "splits[:3]"
      ],
      "execution_count": null,
      "outputs": [
        {
          "output_type": "execute_result",
          "data": {
            "text/plain": [
              "((#320900) [26011,75166,37736,142749,33174,389369,393453,167697,102512,30346...],\n",
              " (#80225) [197738,278728,196100,62413,157552,309314,164957,92725,310410,393560...])"
            ]
          },
          "metadata": {
            "tags": []
          },
          "execution_count": 62
        }
      ]
    },
    {
      "cell_type": "code",
      "metadata": {
        "id": "0n7dZEn3nFKy",
        "colab": {
          "base_uri": "https://localhost:8080/"
        },
        "outputId": "ccdf4fbc-a9f9-41fd-c6ea-a860fe8dac6a"
      },
      "source": [
        "df_train.dtypes.value_counts()"
      ],
      "execution_count": null,
      "outputs": [
        {
          "output_type": "execute_result",
          "data": {
            "text/plain": [
              "object            45\n",
              "int64              5\n",
              "float64            2\n",
              "datetime64[ns]     1\n",
              "dtype: int64"
            ]
          },
          "metadata": {
            "tags": []
          },
          "execution_count": 26
        }
      ]
    },
    {
      "cell_type": "markdown",
      "metadata": {
        "id": "Vwp2jA4oCtT2"
      },
      "source": [
        "### TO object"
      ]
    },
    {
      "cell_type": "markdown",
      "metadata": {
        "id": "5XNBzf59rNxV"
      },
      "source": [
        "There are different spliters in `fastai`. Here I choose `TrainTestSplitter` but not sure it takes latest sorted rows by date."
      ]
    },
    {
      "cell_type": "code",
      "metadata": {
        "id": "do3LL6NLXUxM"
      },
      "source": [
        "splits = TrainTestSplitter(test_size=0.3)(range_of(df))"
      ],
      "execution_count": null,
      "outputs": []
    },
    {
      "cell_type": "code",
      "metadata": {
        "colab": {
          "base_uri": "https://localhost:8080/"
        },
        "id": "Z-6xOPAvYj0A",
        "outputId": "c00a8386-0f7b-493c-d613-6f34090b3515"
      },
      "source": [
        "splits[0]"
      ],
      "execution_count": null,
      "outputs": [
        {
          "output_type": "execute_result",
          "data": {
            "text/plain": [
              "(#280787) [150144,163729,392636,91666,258321,361691,307627,377446,237386,89548...]"
            ]
          },
          "metadata": {
            "tags": []
          },
          "execution_count": 27
        }
      ]
    },
    {
      "cell_type": "code",
      "metadata": {
        "id": "R7FdwuQVXah0",
        "colab": {
          "base_uri": "https://localhost:8080/"
        },
        "outputId": "b450d02c-45ca-4351-e1d5-868cce6bc729"
      },
      "source": [
        "%%time\n",
        "to = TabularPandas(df, procs, cat_names, cont_names, y_names=\"SalePrice\", splits=splits)"
      ],
      "execution_count": null,
      "outputs": [
        {
          "output_type": "stream",
          "text": [
            "CPU times: user 1.59 s, sys: 90 ms, total: 1.68 s\n",
            "Wall time: 1.7 s\n"
          ],
          "name": "stdout"
        }
      ]
    },
    {
      "cell_type": "code",
      "metadata": {
        "id": "ChxV9scQVSls",
        "colab": {
          "base_uri": "https://localhost:8080/",
          "height": 133
        },
        "outputId": "5ea30e6b-6e0f-4ee8-afc8-202e6dd98039"
      },
      "source": [
        "to.xs.iloc[:2]"
      ],
      "execution_count": null,
      "outputs": [
        {
          "output_type": "execute_result",
          "data": {
            "text/html": [
              "<div>\n",
              "<style scoped>\n",
              "    .dataframe tbody tr th:only-of-type {\n",
              "        vertical-align: middle;\n",
              "    }\n",
              "\n",
              "    .dataframe tbody tr th {\n",
              "        vertical-align: top;\n",
              "    }\n",
              "\n",
              "    .dataframe thead th {\n",
              "        text-align: right;\n",
              "    }\n",
              "</style>\n",
              "<table border=\"1\" class=\"dataframe\">\n",
              "  <thead>\n",
              "    <tr style=\"text-align: right;\">\n",
              "      <th></th>\n",
              "      <th>datasource</th>\n",
              "      <th>YearMade</th>\n",
              "      <th>UsageBand</th>\n",
              "      <th>saledate</th>\n",
              "      <th>fiModelDesc</th>\n",
              "      <th>fiBaseModel</th>\n",
              "      <th>fiSecondaryDesc</th>\n",
              "      <th>fiModelSeries</th>\n",
              "      <th>fiModelDescriptor</th>\n",
              "      <th>ProductSize</th>\n",
              "      <th>fiProductClassDesc</th>\n",
              "      <th>state</th>\n",
              "      <th>ProductGroup</th>\n",
              "      <th>ProductGroupDesc</th>\n",
              "      <th>Drive_System</th>\n",
              "      <th>Enclosure</th>\n",
              "      <th>Forks</th>\n",
              "      <th>Pad_Type</th>\n",
              "      <th>Ride_Control</th>\n",
              "      <th>Stick</th>\n",
              "      <th>Transmission</th>\n",
              "      <th>Turbocharged</th>\n",
              "      <th>Blade_Extension</th>\n",
              "      <th>Blade_Width</th>\n",
              "      <th>Enclosure_Type</th>\n",
              "      <th>Engine_Horsepower</th>\n",
              "      <th>Hydraulics</th>\n",
              "      <th>Pushblock</th>\n",
              "      <th>Ripper</th>\n",
              "      <th>Scarifier</th>\n",
              "      <th>Tip_Control</th>\n",
              "      <th>Tire_Size</th>\n",
              "      <th>Coupler</th>\n",
              "      <th>Coupler_System</th>\n",
              "      <th>Grouser_Tracks</th>\n",
              "      <th>Hydraulics_Flow</th>\n",
              "      <th>Track_Type</th>\n",
              "      <th>Undercarriage_Pad_Width</th>\n",
              "      <th>Stick_Length</th>\n",
              "      <th>Thumb</th>\n",
              "      <th>Pattern_Changer</th>\n",
              "      <th>Grouser_Type</th>\n",
              "      <th>Backhoe_Mounting</th>\n",
              "      <th>Blade_Type</th>\n",
              "      <th>Travel_Controls</th>\n",
              "      <th>Differential_Type</th>\n",
              "      <th>Steering_Controls</th>\n",
              "      <th>auctioneerID_na</th>\n",
              "      <th>MachineHoursCurrentMeter_na</th>\n",
              "      <th>SalesID</th>\n",
              "      <th>SalePrice</th>\n",
              "      <th>MachineID</th>\n",
              "      <th>ModelID</th>\n",
              "      <th>auctioneerID</th>\n",
              "      <th>MachineHoursCurrentMeter</th>\n",
              "    </tr>\n",
              "  </thead>\n",
              "  <tbody>\n",
              "    <tr>\n",
              "      <th>150144</th>\n",
              "      <td>2</td>\n",
              "      <td>53</td>\n",
              "      <td>0</td>\n",
              "      <td>2676</td>\n",
              "      <td>557</td>\n",
              "      <td>186</td>\n",
              "      <td>0</td>\n",
              "      <td>0</td>\n",
              "      <td>64</td>\n",
              "      <td>3</td>\n",
              "      <td>14</td>\n",
              "      <td>23</td>\n",
              "      <td>4</td>\n",
              "      <td>4</td>\n",
              "      <td>0</td>\n",
              "      <td>3</td>\n",
              "      <td>0</td>\n",
              "      <td>0</td>\n",
              "      <td>0</td>\n",
              "      <td>0</td>\n",
              "      <td>0</td>\n",
              "      <td>0</td>\n",
              "      <td>0</td>\n",
              "      <td>0</td>\n",
              "      <td>0</td>\n",
              "      <td>0</td>\n",
              "      <td>4</td>\n",
              "      <td>0</td>\n",
              "      <td>0</td>\n",
              "      <td>0</td>\n",
              "      <td>0</td>\n",
              "      <td>0</td>\n",
              "      <td>2</td>\n",
              "      <td>0</td>\n",
              "      <td>0</td>\n",
              "      <td>0</td>\n",
              "      <td>2</td>\n",
              "      <td>19</td>\n",
              "      <td>27</td>\n",
              "      <td>3</td>\n",
              "      <td>2</td>\n",
              "      <td>1</td>\n",
              "      <td>0</td>\n",
              "      <td>0</td>\n",
              "      <td>0</td>\n",
              "      <td>0</td>\n",
              "      <td>0</td>\n",
              "      <td>1</td>\n",
              "      <td>2</td>\n",
              "      <td>1524231</td>\n",
              "      <td>10.373491</td>\n",
              "      <td>1427198</td>\n",
              "      <td>1177</td>\n",
              "      <td>1.0</td>\n",
              "      <td>0.0</td>\n",
              "    </tr>\n",
              "    <tr>\n",
              "      <th>163729</th>\n",
              "      <td>2</td>\n",
              "      <td>40</td>\n",
              "      <td>0</td>\n",
              "      <td>3157</td>\n",
              "      <td>1242</td>\n",
              "      <td>368</td>\n",
              "      <td>15</td>\n",
              "      <td>0</td>\n",
              "      <td>0</td>\n",
              "      <td>0</td>\n",
              "      <td>35</td>\n",
              "      <td>24</td>\n",
              "      <td>2</td>\n",
              "      <td>2</td>\n",
              "      <td>3</td>\n",
              "      <td>1</td>\n",
              "      <td>0</td>\n",
              "      <td>0</td>\n",
              "      <td>0</td>\n",
              "      <td>0</td>\n",
              "      <td>5</td>\n",
              "      <td>0</td>\n",
              "      <td>1</td>\n",
              "      <td>6</td>\n",
              "      <td>3</td>\n",
              "      <td>1</td>\n",
              "      <td>5</td>\n",
              "      <td>1</td>\n",
              "      <td>2</td>\n",
              "      <td>2</td>\n",
              "      <td>2</td>\n",
              "      <td>17</td>\n",
              "      <td>0</td>\n",
              "      <td>0</td>\n",
              "      <td>0</td>\n",
              "      <td>0</td>\n",
              "      <td>0</td>\n",
              "      <td>0</td>\n",
              "      <td>0</td>\n",
              "      <td>0</td>\n",
              "      <td>0</td>\n",
              "      <td>0</td>\n",
              "      <td>0</td>\n",
              "      <td>0</td>\n",
              "      <td>0</td>\n",
              "      <td>0</td>\n",
              "      <td>0</td>\n",
              "      <td>1</td>\n",
              "      <td>2</td>\n",
              "      <td>1586430</td>\n",
              "      <td>9.350102</td>\n",
              "      <td>1527409</td>\n",
              "      <td>4777</td>\n",
              "      <td>8.0</td>\n",
              "      <td>0.0</td>\n",
              "    </tr>\n",
              "  </tbody>\n",
              "</table>\n",
              "</div>"
            ],
            "text/plain": [
              "        datasource  YearMade  ...  auctioneerID  MachineHoursCurrentMeter\n",
              "150144           2        53  ...           1.0                       0.0\n",
              "163729           2        40  ...           8.0                       0.0\n",
              "\n",
              "[2 rows x 55 columns]"
            ]
          },
          "metadata": {
            "tags": []
          },
          "execution_count": 29
        }
      ]
    },
    {
      "cell_type": "code",
      "metadata": {
        "id": "GDv2nmEUavdq",
        "colab": {
          "base_uri": "https://localhost:8080/"
        },
        "outputId": "da3bc205-4eab-46bd-a364-b9c5b2cbaa50"
      },
      "source": [
        "to.train"
      ],
      "execution_count": null,
      "outputs": [
        {
          "output_type": "execute_result",
          "data": {
            "text/plain": [
              "        SalesID  SalePrice  ...  auctioneerID_na  MachineHoursCurrentMeter_na\n",
              "150144  1524231  10.373491  ...                1                            2\n",
              "163729  1586430   9.350102  ...                1                            2\n",
              "392636  6257981  10.985292  ...                1                            2\n",
              "91666   1401514  11.170435  ...                1                            2\n",
              "258321  1790589   9.104980  ...                1                            2\n",
              "...         ...        ...  ...              ...                          ...\n",
              "190089  1626612  10.518673  ...                1                            2\n",
              "387807  4353671  11.434964  ...                1                            1\n",
              "397366  6286309  10.146434  ...                1                            2\n",
              "21988   1215306  10.596635  ...                1                            1\n",
              "139433  1500926   9.546813  ...                1                            2\n",
              "\n",
              "[280787 rows x 55 columns]"
            ]
          },
          "metadata": {
            "tags": []
          },
          "execution_count": 31
        }
      ]
    },
    {
      "cell_type": "code",
      "metadata": {
        "colab": {
          "base_uri": "https://localhost:8080/"
        },
        "id": "vfp0OGdiVz7_",
        "outputId": "545ece0e-19dc-4433-e76a-0c692fc5968d"
      },
      "source": [
        "to.ys.describe"
      ],
      "execution_count": null,
      "outputs": [
        {
          "output_type": "execute_result",
          "data": {
            "text/plain": [
              "<bound method NDFrame.describe of         SalePrice\n",
              "368515  -0.851633\n",
              "232517  -0.358788\n",
              "355574  -1.180124\n",
              "180215   0.147972\n",
              "288734  -0.799185\n",
              "...           ...\n",
              "27327   -1.518793\n",
              "364904  -0.436759\n",
              "307504   1.358389\n",
              "103274   0.947356\n",
              "225984  -0.652403\n",
              "\n",
              "[401125 rows x 1 columns]>"
            ]
          },
          "metadata": {
            "tags": []
          },
          "execution_count": 68
        }
      ]
    },
    {
      "cell_type": "code",
      "metadata": {
        "id": "pPxQJEeR6FG_",
        "colab": {
          "base_uri": "https://localhost:8080/",
          "height": 669
        },
        "outputId": "06d18b3b-18d8-48b0-dbeb-1ae6de736d67"
      },
      "source": [
        "dls = to.dataloaders()\n",
        "dls.valid.show_batch()\n",
        "# type(to)"
      ],
      "execution_count": null,
      "outputs": [
        {
          "output_type": "display_data",
          "data": {
            "text/html": [
              "<table border=\"1\" class=\"dataframe\">\n",
              "  <thead>\n",
              "    <tr style=\"text-align: right;\">\n",
              "      <th></th>\n",
              "      <th>datasource</th>\n",
              "      <th>YearMade</th>\n",
              "      <th>UsageBand</th>\n",
              "      <th>saledate</th>\n",
              "      <th>fiModelDesc</th>\n",
              "      <th>fiBaseModel</th>\n",
              "      <th>fiSecondaryDesc</th>\n",
              "      <th>fiModelSeries</th>\n",
              "      <th>fiModelDescriptor</th>\n",
              "      <th>ProductSize</th>\n",
              "      <th>fiProductClassDesc</th>\n",
              "      <th>state</th>\n",
              "      <th>ProductGroup</th>\n",
              "      <th>ProductGroupDesc</th>\n",
              "      <th>Drive_System</th>\n",
              "      <th>Enclosure</th>\n",
              "      <th>Forks</th>\n",
              "      <th>Pad_Type</th>\n",
              "      <th>Ride_Control</th>\n",
              "      <th>Stick</th>\n",
              "      <th>Transmission</th>\n",
              "      <th>Turbocharged</th>\n",
              "      <th>Blade_Extension</th>\n",
              "      <th>Blade_Width</th>\n",
              "      <th>Enclosure_Type</th>\n",
              "      <th>Engine_Horsepower</th>\n",
              "      <th>Hydraulics</th>\n",
              "      <th>Pushblock</th>\n",
              "      <th>Ripper</th>\n",
              "      <th>Scarifier</th>\n",
              "      <th>Tip_Control</th>\n",
              "      <th>Tire_Size</th>\n",
              "      <th>Coupler</th>\n",
              "      <th>Coupler_System</th>\n",
              "      <th>Grouser_Tracks</th>\n",
              "      <th>Hydraulics_Flow</th>\n",
              "      <th>Track_Type</th>\n",
              "      <th>Undercarriage_Pad_Width</th>\n",
              "      <th>Stick_Length</th>\n",
              "      <th>Thumb</th>\n",
              "      <th>Pattern_Changer</th>\n",
              "      <th>Grouser_Type</th>\n",
              "      <th>Backhoe_Mounting</th>\n",
              "      <th>Blade_Type</th>\n",
              "      <th>Travel_Controls</th>\n",
              "      <th>Differential_Type</th>\n",
              "      <th>Steering_Controls</th>\n",
              "      <th>auctioneerID_na</th>\n",
              "      <th>MachineHoursCurrentMeter_na</th>\n",
              "      <th>SalesID</th>\n",
              "      <th>SalePrice</th>\n",
              "      <th>SalePrice</th>\n",
              "      <th>MachineID</th>\n",
              "      <th>ModelID</th>\n",
              "      <th>auctioneerID</th>\n",
              "      <th>MachineHoursCurrentMeter</th>\n",
              "      <th>SalePrice</th>\n",
              "      <th>SalePrice</th>\n",
              "    </tr>\n",
              "  </thead>\n",
              "  <tbody>\n",
              "    <tr>\n",
              "      <th>0</th>\n",
              "      <td>132</td>\n",
              "      <td>2003</td>\n",
              "      <td>#na#</td>\n",
              "      <td>2008-06-19</td>\n",
              "      <td>210LE</td>\n",
              "      <td>210</td>\n",
              "      <td>LE</td>\n",
              "      <td>#na#</td>\n",
              "      <td>#na#</td>\n",
              "      <td>Compact</td>\n",
              "      <td>Wheel Loader - 60.0 to 80.0 Horsepower</td>\n",
              "      <td>Arizona</td>\n",
              "      <td>WL</td>\n",
              "      <td>Wheel Loader</td>\n",
              "      <td>#na#</td>\n",
              "      <td>OROPS</td>\n",
              "      <td>None or Unspecified</td>\n",
              "      <td>#na#</td>\n",
              "      <td>None or Unspecified</td>\n",
              "      <td>#na#</td>\n",
              "      <td>#na#</td>\n",
              "      <td>#na#</td>\n",
              "      <td>#na#</td>\n",
              "      <td>#na#</td>\n",
              "      <td>#na#</td>\n",
              "      <td>#na#</td>\n",
              "      <td>2 Valve</td>\n",
              "      <td>#na#</td>\n",
              "      <td>#na#</td>\n",
              "      <td>#na#</td>\n",
              "      <td>#na#</td>\n",
              "      <td>None or Unspecified</td>\n",
              "      <td>None or Unspecified</td>\n",
              "      <td>#na#</td>\n",
              "      <td>#na#</td>\n",
              "      <td>#na#</td>\n",
              "      <td>#na#</td>\n",
              "      <td>#na#</td>\n",
              "      <td>#na#</td>\n",
              "      <td>#na#</td>\n",
              "      <td>#na#</td>\n",
              "      <td>#na#</td>\n",
              "      <td>#na#</td>\n",
              "      <td>#na#</td>\n",
              "      <td>#na#</td>\n",
              "      <td>Standard</td>\n",
              "      <td>Conventional</td>\n",
              "      <td>False</td>\n",
              "      <td>True</td>\n",
              "      <td>1636008.0</td>\n",
              "      <td>16000.0</td>\n",
              "      <td>16000.0</td>\n",
              "      <td>1465800.0</td>\n",
              "      <td>4579.0</td>\n",
              "      <td>1.0</td>\n",
              "      <td>0.0</td>\n",
              "      <td>16000.0</td>\n",
              "      <td>16000.0</td>\n",
              "    </tr>\n",
              "    <tr>\n",
              "      <th>1</th>\n",
              "      <td>132</td>\n",
              "      <td>1000</td>\n",
              "      <td>#na#</td>\n",
              "      <td>1999-05-04</td>\n",
              "      <td>C14B</td>\n",
              "      <td>C14</td>\n",
              "      <td>B</td>\n",
              "      <td>#na#</td>\n",
              "      <td>#na#</td>\n",
              "      <td>Small</td>\n",
              "      <td>Hydraulic Excavator, Track - 16.0 to 19.0 Metric Tons</td>\n",
              "      <td>Wisconsin</td>\n",
              "      <td>TEX</td>\n",
              "      <td>Track Excavators</td>\n",
              "      <td>#na#</td>\n",
              "      <td>EROPS</td>\n",
              "      <td>#na#</td>\n",
              "      <td>#na#</td>\n",
              "      <td>#na#</td>\n",
              "      <td>#na#</td>\n",
              "      <td>#na#</td>\n",
              "      <td>#na#</td>\n",
              "      <td>#na#</td>\n",
              "      <td>#na#</td>\n",
              "      <td>#na#</td>\n",
              "      <td>#na#</td>\n",
              "      <td>Standard</td>\n",
              "      <td>#na#</td>\n",
              "      <td>#na#</td>\n",
              "      <td>#na#</td>\n",
              "      <td>#na#</td>\n",
              "      <td>#na#</td>\n",
              "      <td>None or Unspecified</td>\n",
              "      <td>#na#</td>\n",
              "      <td>#na#</td>\n",
              "      <td>#na#</td>\n",
              "      <td>Steel</td>\n",
              "      <td>30 inch</td>\n",
              "      <td>None or Unspecified</td>\n",
              "      <td>None or Unspecified</td>\n",
              "      <td>None or Unspecified</td>\n",
              "      <td>Double</td>\n",
              "      <td>#na#</td>\n",
              "      <td>#na#</td>\n",
              "      <td>#na#</td>\n",
              "      <td>#na#</td>\n",
              "      <td>#na#</td>\n",
              "      <td>False</td>\n",
              "      <td>True</td>\n",
              "      <td>1844791.0</td>\n",
              "      <td>9000.0</td>\n",
              "      <td>9000.0</td>\n",
              "      <td>1479368.0</td>\n",
              "      <td>5847.0</td>\n",
              "      <td>6.0</td>\n",
              "      <td>0.0</td>\n",
              "      <td>9000.0</td>\n",
              "      <td>9000.0</td>\n",
              "    </tr>\n",
              "    <tr>\n",
              "      <th>2</th>\n",
              "      <td>132</td>\n",
              "      <td>1999</td>\n",
              "      <td>#na#</td>\n",
              "      <td>2006-08-30</td>\n",
              "      <td>653G</td>\n",
              "      <td>653</td>\n",
              "      <td>G</td>\n",
              "      <td>#na#</td>\n",
              "      <td>#na#</td>\n",
              "      <td>Large / Medium</td>\n",
              "      <td>Hydraulic Excavator, Track - 19.0 to 21.0 Metric Tons</td>\n",
              "      <td>Alabama</td>\n",
              "      <td>TEX</td>\n",
              "      <td>Track Excavators</td>\n",
              "      <td>#na#</td>\n",
              "      <td>EROPS</td>\n",
              "      <td>#na#</td>\n",
              "      <td>#na#</td>\n",
              "      <td>#na#</td>\n",
              "      <td>#na#</td>\n",
              "      <td>#na#</td>\n",
              "      <td>#na#</td>\n",
              "      <td>#na#</td>\n",
              "      <td>#na#</td>\n",
              "      <td>#na#</td>\n",
              "      <td>#na#</td>\n",
              "      <td>Standard</td>\n",
              "      <td>#na#</td>\n",
              "      <td>#na#</td>\n",
              "      <td>#na#</td>\n",
              "      <td>#na#</td>\n",
              "      <td>#na#</td>\n",
              "      <td>None or Unspecified</td>\n",
              "      <td>#na#</td>\n",
              "      <td>#na#</td>\n",
              "      <td>#na#</td>\n",
              "      <td>Steel</td>\n",
              "      <td>None or Unspecified</td>\n",
              "      <td>None or Unspecified</td>\n",
              "      <td>None or Unspecified</td>\n",
              "      <td>None or Unspecified</td>\n",
              "      <td>Double</td>\n",
              "      <td>#na#</td>\n",
              "      <td>#na#</td>\n",
              "      <td>#na#</td>\n",
              "      <td>#na#</td>\n",
              "      <td>#na#</td>\n",
              "      <td>False</td>\n",
              "      <td>True</td>\n",
              "      <td>1634006.0</td>\n",
              "      <td>33000.0</td>\n",
              "      <td>33000.0</td>\n",
              "      <td>1423637.0</td>\n",
              "      <td>4768.0</td>\n",
              "      <td>7.0</td>\n",
              "      <td>0.0</td>\n",
              "      <td>33000.0</td>\n",
              "      <td>33000.0</td>\n",
              "    </tr>\n",
              "    <tr>\n",
              "      <th>3</th>\n",
              "      <td>132</td>\n",
              "      <td>1983</td>\n",
              "      <td>#na#</td>\n",
              "      <td>1999-02-02</td>\n",
              "      <td>D4E</td>\n",
              "      <td>D4</td>\n",
              "      <td>E</td>\n",
              "      <td>#na#</td>\n",
              "      <td>#na#</td>\n",
              "      <td>#na#</td>\n",
              "      <td>Track Type Tractor, Dozer - 75.0 to 85.0 Horsepower</td>\n",
              "      <td>Florida</td>\n",
              "      <td>TTT</td>\n",
              "      <td>Track Type Tractors</td>\n",
              "      <td>#na#</td>\n",
              "      <td>OROPS</td>\n",
              "      <td>#na#</td>\n",
              "      <td>#na#</td>\n",
              "      <td>#na#</td>\n",
              "      <td>#na#</td>\n",
              "      <td>Standard</td>\n",
              "      <td>#na#</td>\n",
              "      <td>#na#</td>\n",
              "      <td>#na#</td>\n",
              "      <td>#na#</td>\n",
              "      <td>#na#</td>\n",
              "      <td>2 Valve</td>\n",
              "      <td>#na#</td>\n",
              "      <td>None or Unspecified</td>\n",
              "      <td>#na#</td>\n",
              "      <td>#na#</td>\n",
              "      <td>#na#</td>\n",
              "      <td>#na#</td>\n",
              "      <td>#na#</td>\n",
              "      <td>#na#</td>\n",
              "      <td>#na#</td>\n",
              "      <td>#na#</td>\n",
              "      <td>#na#</td>\n",
              "      <td>#na#</td>\n",
              "      <td>#na#</td>\n",
              "      <td>#na#</td>\n",
              "      <td>#na#</td>\n",
              "      <td>None or Unspecified</td>\n",
              "      <td>None or Unspecified</td>\n",
              "      <td>None or Unspecified</td>\n",
              "      <td>#na#</td>\n",
              "      <td>#na#</td>\n",
              "      <td>False</td>\n",
              "      <td>True</td>\n",
              "      <td>1328622.0</td>\n",
              "      <td>16000.0</td>\n",
              "      <td>16000.0</td>\n",
              "      <td>1148391.0</td>\n",
              "      <td>4104.0</td>\n",
              "      <td>2.0</td>\n",
              "      <td>0.0</td>\n",
              "      <td>16000.0</td>\n",
              "      <td>16000.0</td>\n",
              "    </tr>\n",
              "    <tr>\n",
              "      <th>4</th>\n",
              "      <td>132</td>\n",
              "      <td>2006</td>\n",
              "      <td>#na#</td>\n",
              "      <td>2009-02-05</td>\n",
              "      <td>420D</td>\n",
              "      <td>420</td>\n",
              "      <td>D</td>\n",
              "      <td>#na#</td>\n",
              "      <td>#na#</td>\n",
              "      <td>#na#</td>\n",
              "      <td>Backhoe Loader - 14.0 to 15.0 Ft Standard Digging Depth</td>\n",
              "      <td>Florida</td>\n",
              "      <td>BL</td>\n",
              "      <td>Backhoe Loaders</td>\n",
              "      <td>Four Wheel Drive</td>\n",
              "      <td>OROPS</td>\n",
              "      <td>None or Unspecified</td>\n",
              "      <td>None or Unspecified</td>\n",
              "      <td>No</td>\n",
              "      <td>Standard</td>\n",
              "      <td>Standard</td>\n",
              "      <td>None or Unspecified</td>\n",
              "      <td>#na#</td>\n",
              "      <td>#na#</td>\n",
              "      <td>#na#</td>\n",
              "      <td>#na#</td>\n",
              "      <td>#na#</td>\n",
              "      <td>#na#</td>\n",
              "      <td>#na#</td>\n",
              "      <td>#na#</td>\n",
              "      <td>#na#</td>\n",
              "      <td>#na#</td>\n",
              "      <td>#na#</td>\n",
              "      <td>#na#</td>\n",
              "      <td>#na#</td>\n",
              "      <td>#na#</td>\n",
              "      <td>#na#</td>\n",
              "      <td>#na#</td>\n",
              "      <td>#na#</td>\n",
              "      <td>#na#</td>\n",
              "      <td>#na#</td>\n",
              "      <td>#na#</td>\n",
              "      <td>#na#</td>\n",
              "      <td>#na#</td>\n",
              "      <td>#na#</td>\n",
              "      <td>#na#</td>\n",
              "      <td>#na#</td>\n",
              "      <td>False</td>\n",
              "      <td>True</td>\n",
              "      <td>1560601.0</td>\n",
              "      <td>40000.0</td>\n",
              "      <td>40000.0</td>\n",
              "      <td>1158903.0</td>\n",
              "      <td>3542.0</td>\n",
              "      <td>2.0</td>\n",
              "      <td>0.0</td>\n",
              "      <td>40000.0</td>\n",
              "      <td>40000.0</td>\n",
              "    </tr>\n",
              "    <tr>\n",
              "      <th>5</th>\n",
              "      <td>136</td>\n",
              "      <td>1000</td>\n",
              "      <td>#na#</td>\n",
              "      <td>2010-06-26</td>\n",
              "      <td>D4CIIILGP</td>\n",
              "      <td>D4</td>\n",
              "      <td>C</td>\n",
              "      <td>III</td>\n",
              "      <td>LGP</td>\n",
              "      <td>#na#</td>\n",
              "      <td>Track Type Tractor, Dozer - 75.0 to 85.0 Horsepower</td>\n",
              "      <td>Alaska</td>\n",
              "      <td>TTT</td>\n",
              "      <td>Track Type Tractors</td>\n",
              "      <td>#na#</td>\n",
              "      <td>OROPS</td>\n",
              "      <td>#na#</td>\n",
              "      <td>#na#</td>\n",
              "      <td>#na#</td>\n",
              "      <td>#na#</td>\n",
              "      <td>Standard</td>\n",
              "      <td>#na#</td>\n",
              "      <td>#na#</td>\n",
              "      <td>#na#</td>\n",
              "      <td>#na#</td>\n",
              "      <td>#na#</td>\n",
              "      <td>2 Valve</td>\n",
              "      <td>#na#</td>\n",
              "      <td>None or Unspecified</td>\n",
              "      <td>#na#</td>\n",
              "      <td>#na#</td>\n",
              "      <td>#na#</td>\n",
              "      <td>#na#</td>\n",
              "      <td>#na#</td>\n",
              "      <td>#na#</td>\n",
              "      <td>#na#</td>\n",
              "      <td>#na#</td>\n",
              "      <td>#na#</td>\n",
              "      <td>#na#</td>\n",
              "      <td>#na#</td>\n",
              "      <td>#na#</td>\n",
              "      <td>#na#</td>\n",
              "      <td>None or Unspecified</td>\n",
              "      <td>PAT</td>\n",
              "      <td>None or Unspecified</td>\n",
              "      <td>#na#</td>\n",
              "      <td>#na#</td>\n",
              "      <td>False</td>\n",
              "      <td>False</td>\n",
              "      <td>2264019.0</td>\n",
              "      <td>17000.0</td>\n",
              "      <td>17000.0</td>\n",
              "      <td>632283.0</td>\n",
              "      <td>1545.0</td>\n",
              "      <td>1.0</td>\n",
              "      <td>0.0</td>\n",
              "      <td>17000.0</td>\n",
              "      <td>17000.0</td>\n",
              "    </tr>\n",
              "    <tr>\n",
              "      <th>6</th>\n",
              "      <td>132</td>\n",
              "      <td>2006</td>\n",
              "      <td>High</td>\n",
              "      <td>2010-12-09</td>\n",
              "      <td>750J</td>\n",
              "      <td>750</td>\n",
              "      <td>J</td>\n",
              "      <td>#na#</td>\n",
              "      <td>#na#</td>\n",
              "      <td>Medium</td>\n",
              "      <td>Track Type Tractor, Dozer - 130.0 to 160.0 Horsepower</td>\n",
              "      <td>Georgia</td>\n",
              "      <td>TTT</td>\n",
              "      <td>Track Type Tractors</td>\n",
              "      <td>#na#</td>\n",
              "      <td>EROPS w AC</td>\n",
              "      <td>#na#</td>\n",
              "      <td>#na#</td>\n",
              "      <td>#na#</td>\n",
              "      <td>#na#</td>\n",
              "      <td>Standard</td>\n",
              "      <td>#na#</td>\n",
              "      <td>#na#</td>\n",
              "      <td>#na#</td>\n",
              "      <td>#na#</td>\n",
              "      <td>#na#</td>\n",
              "      <td>2 Valve</td>\n",
              "      <td>#na#</td>\n",
              "      <td>None or Unspecified</td>\n",
              "      <td>#na#</td>\n",
              "      <td>#na#</td>\n",
              "      <td>#na#</td>\n",
              "      <td>#na#</td>\n",
              "      <td>#na#</td>\n",
              "      <td>#na#</td>\n",
              "      <td>#na#</td>\n",
              "      <td>#na#</td>\n",
              "      <td>#na#</td>\n",
              "      <td>#na#</td>\n",
              "      <td>#na#</td>\n",
              "      <td>#na#</td>\n",
              "      <td>#na#</td>\n",
              "      <td>None or Unspecified</td>\n",
              "      <td>PAT</td>\n",
              "      <td>None or Unspecified</td>\n",
              "      <td>#na#</td>\n",
              "      <td>#na#</td>\n",
              "      <td>False</td>\n",
              "      <td>False</td>\n",
              "      <td>1588576.0</td>\n",
              "      <td>85000.0</td>\n",
              "      <td>85000.0</td>\n",
              "      <td>1143493.0</td>\n",
              "      <td>11406.0</td>\n",
              "      <td>1.0</td>\n",
              "      <td>4760.0</td>\n",
              "      <td>85000.0</td>\n",
              "      <td>85000.0</td>\n",
              "    </tr>\n",
              "    <tr>\n",
              "      <th>7</th>\n",
              "      <td>132</td>\n",
              "      <td>1986</td>\n",
              "      <td>#na#</td>\n",
              "      <td>2000-04-08</td>\n",
              "      <td>416</td>\n",
              "      <td>416</td>\n",
              "      <td>#na#</td>\n",
              "      <td>#na#</td>\n",
              "      <td>#na#</td>\n",
              "      <td>#na#</td>\n",
              "      <td>Backhoe Loader - 14.0 to 15.0 Ft Standard Digging Depth</td>\n",
              "      <td>New York</td>\n",
              "      <td>BL</td>\n",
              "      <td>Backhoe Loaders</td>\n",
              "      <td>Four Wheel Drive</td>\n",
              "      <td>EROPS</td>\n",
              "      <td>None or Unspecified</td>\n",
              "      <td>None or Unspecified</td>\n",
              "      <td>No</td>\n",
              "      <td>Extended</td>\n",
              "      <td>Standard</td>\n",
              "      <td>None or Unspecified</td>\n",
              "      <td>#na#</td>\n",
              "      <td>#na#</td>\n",
              "      <td>#na#</td>\n",
              "      <td>#na#</td>\n",
              "      <td>#na#</td>\n",
              "      <td>#na#</td>\n",
              "      <td>#na#</td>\n",
              "      <td>#na#</td>\n",
              "      <td>#na#</td>\n",
              "      <td>#na#</td>\n",
              "      <td>#na#</td>\n",
              "      <td>#na#</td>\n",
              "      <td>#na#</td>\n",
              "      <td>#na#</td>\n",
              "      <td>#na#</td>\n",
              "      <td>#na#</td>\n",
              "      <td>#na#</td>\n",
              "      <td>#na#</td>\n",
              "      <td>#na#</td>\n",
              "      <td>#na#</td>\n",
              "      <td>#na#</td>\n",
              "      <td>#na#</td>\n",
              "      <td>#na#</td>\n",
              "      <td>#na#</td>\n",
              "      <td>#na#</td>\n",
              "      <td>False</td>\n",
              "      <td>True</td>\n",
              "      <td>1403929.0</td>\n",
              "      <td>15500.0</td>\n",
              "      <td>15500.0</td>\n",
              "      <td>1389949.0</td>\n",
              "      <td>7110.0</td>\n",
              "      <td>2.0</td>\n",
              "      <td>0.0</td>\n",
              "      <td>15500.0</td>\n",
              "      <td>15500.0</td>\n",
              "    </tr>\n",
              "    <tr>\n",
              "      <th>8</th>\n",
              "      <td>136</td>\n",
              "      <td>1992</td>\n",
              "      <td>#na#</td>\n",
              "      <td>2008-06-11</td>\n",
              "      <td>936F</td>\n",
              "      <td>936</td>\n",
              "      <td>F</td>\n",
              "      <td>#na#</td>\n",
              "      <td>#na#</td>\n",
              "      <td>Medium</td>\n",
              "      <td>Wheel Loader - 135.0 to 150.0 Horsepower</td>\n",
              "      <td>Texas</td>\n",
              "      <td>WL</td>\n",
              "      <td>Wheel Loader</td>\n",
              "      <td>#na#</td>\n",
              "      <td>EROPS</td>\n",
              "      <td>Yes</td>\n",
              "      <td>#na#</td>\n",
              "      <td>None or Unspecified</td>\n",
              "      <td>#na#</td>\n",
              "      <td>#na#</td>\n",
              "      <td>#na#</td>\n",
              "      <td>#na#</td>\n",
              "      <td>#na#</td>\n",
              "      <td>#na#</td>\n",
              "      <td>#na#</td>\n",
              "      <td>3 Valve</td>\n",
              "      <td>#na#</td>\n",
              "      <td>#na#</td>\n",
              "      <td>#na#</td>\n",
              "      <td>#na#</td>\n",
              "      <td>20.5</td>\n",
              "      <td>None or Unspecified</td>\n",
              "      <td>#na#</td>\n",
              "      <td>#na#</td>\n",
              "      <td>#na#</td>\n",
              "      <td>#na#</td>\n",
              "      <td>#na#</td>\n",
              "      <td>#na#</td>\n",
              "      <td>#na#</td>\n",
              "      <td>#na#</td>\n",
              "      <td>#na#</td>\n",
              "      <td>#na#</td>\n",
              "      <td>#na#</td>\n",
              "      <td>#na#</td>\n",
              "      <td>Standard</td>\n",
              "      <td>Conventional</td>\n",
              "      <td>False</td>\n",
              "      <td>False</td>\n",
              "      <td>2268888.0</td>\n",
              "      <td>31000.0</td>\n",
              "      <td>31000.0</td>\n",
              "      <td>1557424.0</td>\n",
              "      <td>3804.0</td>\n",
              "      <td>1.0</td>\n",
              "      <td>0.0</td>\n",
              "      <td>31000.0</td>\n",
              "      <td>31000.0</td>\n",
              "    </tr>\n",
              "    <tr>\n",
              "      <th>9</th>\n",
              "      <td>149</td>\n",
              "      <td>1985</td>\n",
              "      <td>#na#</td>\n",
              "      <td>2011-10-18</td>\n",
              "      <td>992C</td>\n",
              "      <td>992</td>\n",
              "      <td>C</td>\n",
              "      <td>#na#</td>\n",
              "      <td>#na#</td>\n",
              "      <td>Large</td>\n",
              "      <td>Wheel Loader - 500.0 to 1000.0 Horsepower</td>\n",
              "      <td>Maryland</td>\n",
              "      <td>WL</td>\n",
              "      <td>Wheel Loader</td>\n",
              "      <td>#na#</td>\n",
              "      <td>EROPS w AC</td>\n",
              "      <td>None or Unspecified</td>\n",
              "      <td>#na#</td>\n",
              "      <td>None or Unspecified</td>\n",
              "      <td>#na#</td>\n",
              "      <td>#na#</td>\n",
              "      <td>#na#</td>\n",
              "      <td>#na#</td>\n",
              "      <td>#na#</td>\n",
              "      <td>#na#</td>\n",
              "      <td>#na#</td>\n",
              "      <td>2 Valve</td>\n",
              "      <td>#na#</td>\n",
              "      <td>#na#</td>\n",
              "      <td>#na#</td>\n",
              "      <td>#na#</td>\n",
              "      <td>None or Unspecified</td>\n",
              "      <td>None or Unspecified</td>\n",
              "      <td>#na#</td>\n",
              "      <td>#na#</td>\n",
              "      <td>#na#</td>\n",
              "      <td>#na#</td>\n",
              "      <td>#na#</td>\n",
              "      <td>#na#</td>\n",
              "      <td>#na#</td>\n",
              "      <td>#na#</td>\n",
              "      <td>#na#</td>\n",
              "      <td>#na#</td>\n",
              "      <td>#na#</td>\n",
              "      <td>#na#</td>\n",
              "      <td>Standard</td>\n",
              "      <td>Conventional</td>\n",
              "      <td>False</td>\n",
              "      <td>True</td>\n",
              "      <td>6263977.0</td>\n",
              "      <td>53000.0</td>\n",
              "      <td>53000.0</td>\n",
              "      <td>1925412.0</td>\n",
              "      <td>3893.0</td>\n",
              "      <td>1.0</td>\n",
              "      <td>0.0</td>\n",
              "      <td>53000.0</td>\n",
              "      <td>53000.0</td>\n",
              "    </tr>\n",
              "  </tbody>\n",
              "</table>"
            ],
            "text/plain": [
              "<IPython.core.display.HTML object>"
            ]
          },
          "metadata": {
            "tags": []
          }
        }
      ]
    },
    {
      "cell_type": "code",
      "metadata": {
        "id": "EDBI5gTe7_2W",
        "colab": {
          "base_uri": "https://localhost:8080/",
          "height": 669
        },
        "outputId": "85ceaf16-1d19-43a6-f216-88bc1b7e3688"
      },
      "source": [
        "to.show()"
      ],
      "execution_count": null,
      "outputs": [
        {
          "output_type": "display_data",
          "data": {
            "text/html": [
              "<table border=\"1\" class=\"dataframe\">\n",
              "  <thead>\n",
              "    <tr style=\"text-align: right;\">\n",
              "      <th></th>\n",
              "      <th>datasource</th>\n",
              "      <th>UsageBand</th>\n",
              "      <th>saledate</th>\n",
              "      <th>fiModelDesc</th>\n",
              "      <th>fiBaseModel</th>\n",
              "      <th>fiSecondaryDesc</th>\n",
              "      <th>fiModelSeries</th>\n",
              "      <th>fiModelDescriptor</th>\n",
              "      <th>ProductSize</th>\n",
              "      <th>fiProductClassDesc</th>\n",
              "      <th>state</th>\n",
              "      <th>ProductGroup</th>\n",
              "      <th>ProductGroupDesc</th>\n",
              "      <th>Drive_System</th>\n",
              "      <th>Enclosure</th>\n",
              "      <th>Forks</th>\n",
              "      <th>Pad_Type</th>\n",
              "      <th>Ride_Control</th>\n",
              "      <th>Stick</th>\n",
              "      <th>Transmission</th>\n",
              "      <th>Turbocharged</th>\n",
              "      <th>Blade_Extension</th>\n",
              "      <th>Blade_Width</th>\n",
              "      <th>Enclosure_Type</th>\n",
              "      <th>Engine_Horsepower</th>\n",
              "      <th>Hydraulics</th>\n",
              "      <th>Pushblock</th>\n",
              "      <th>Ripper</th>\n",
              "      <th>Scarifier</th>\n",
              "      <th>Tip_Control</th>\n",
              "      <th>Tire_Size</th>\n",
              "      <th>Coupler</th>\n",
              "      <th>Coupler_System</th>\n",
              "      <th>Grouser_Tracks</th>\n",
              "      <th>Hydraulics_Flow</th>\n",
              "      <th>Track_Type</th>\n",
              "      <th>Undercarriage_Pad_Width</th>\n",
              "      <th>Stick_Length</th>\n",
              "      <th>Thumb</th>\n",
              "      <th>Pattern_Changer</th>\n",
              "      <th>Grouser_Type</th>\n",
              "      <th>Backhoe_Mounting</th>\n",
              "      <th>Blade_Type</th>\n",
              "      <th>Travel_Controls</th>\n",
              "      <th>Differential_Type</th>\n",
              "      <th>Steering_Controls</th>\n",
              "      <th>auctioneerID_na</th>\n",
              "      <th>MachineHoursCurrentMeter_na</th>\n",
              "      <th>SalesID</th>\n",
              "      <th>SalePrice</th>\n",
              "      <th>MachineID</th>\n",
              "      <th>ModelID</th>\n",
              "      <th>auctioneerID</th>\n",
              "      <th>YearMade</th>\n",
              "      <th>MachineHoursCurrentMeter</th>\n",
              "      <th>SalePrice</th>\n",
              "    </tr>\n",
              "  </thead>\n",
              "  <tbody>\n",
              "    <tr>\n",
              "      <th>0</th>\n",
              "      <td>121</td>\n",
              "      <td>Low</td>\n",
              "      <td>2006-11-16</td>\n",
              "      <td>521D</td>\n",
              "      <td>521</td>\n",
              "      <td>D</td>\n",
              "      <td>#na#</td>\n",
              "      <td>#na#</td>\n",
              "      <td>#na#</td>\n",
              "      <td>Wheel Loader - 110.0 to 120.0 Horsepower</td>\n",
              "      <td>Alabama</td>\n",
              "      <td>WL</td>\n",
              "      <td>Wheel Loader</td>\n",
              "      <td>#na#</td>\n",
              "      <td>EROPS w AC</td>\n",
              "      <td>None or Unspecified</td>\n",
              "      <td>#na#</td>\n",
              "      <td>None or Unspecified</td>\n",
              "      <td>#na#</td>\n",
              "      <td>#na#</td>\n",
              "      <td>#na#</td>\n",
              "      <td>#na#</td>\n",
              "      <td>#na#</td>\n",
              "      <td>#na#</td>\n",
              "      <td>#na#</td>\n",
              "      <td>2 Valve</td>\n",
              "      <td>#na#</td>\n",
              "      <td>#na#</td>\n",
              "      <td>#na#</td>\n",
              "      <td>#na#</td>\n",
              "      <td>None or Unspecified</td>\n",
              "      <td>None or Unspecified</td>\n",
              "      <td>#na#</td>\n",
              "      <td>#na#</td>\n",
              "      <td>#na#</td>\n",
              "      <td>#na#</td>\n",
              "      <td>#na#</td>\n",
              "      <td>#na#</td>\n",
              "      <td>#na#</td>\n",
              "      <td>#na#</td>\n",
              "      <td>#na#</td>\n",
              "      <td>#na#</td>\n",
              "      <td>#na#</td>\n",
              "      <td>#na#</td>\n",
              "      <td>Standard</td>\n",
              "      <td>Conventional</td>\n",
              "      <td>False</td>\n",
              "      <td>False</td>\n",
              "      <td>1139246</td>\n",
              "      <td>66000</td>\n",
              "      <td>999089</td>\n",
              "      <td>3157</td>\n",
              "      <td>3.0</td>\n",
              "      <td>2004</td>\n",
              "      <td>68.0</td>\n",
              "      <td>66000</td>\n",
              "    </tr>\n",
              "    <tr>\n",
              "      <th>1</th>\n",
              "      <td>121</td>\n",
              "      <td>Low</td>\n",
              "      <td>2004-03-26</td>\n",
              "      <td>950FII</td>\n",
              "      <td>950</td>\n",
              "      <td>F</td>\n",
              "      <td>II</td>\n",
              "      <td>#na#</td>\n",
              "      <td>Medium</td>\n",
              "      <td>Wheel Loader - 150.0 to 175.0 Horsepower</td>\n",
              "      <td>North Carolina</td>\n",
              "      <td>WL</td>\n",
              "      <td>Wheel Loader</td>\n",
              "      <td>#na#</td>\n",
              "      <td>EROPS w AC</td>\n",
              "      <td>None or Unspecified</td>\n",
              "      <td>#na#</td>\n",
              "      <td>None or Unspecified</td>\n",
              "      <td>#na#</td>\n",
              "      <td>#na#</td>\n",
              "      <td>#na#</td>\n",
              "      <td>#na#</td>\n",
              "      <td>#na#</td>\n",
              "      <td>#na#</td>\n",
              "      <td>#na#</td>\n",
              "      <td>2 Valve</td>\n",
              "      <td>#na#</td>\n",
              "      <td>#na#</td>\n",
              "      <td>#na#</td>\n",
              "      <td>#na#</td>\n",
              "      <td>23.5</td>\n",
              "      <td>None or Unspecified</td>\n",
              "      <td>#na#</td>\n",
              "      <td>#na#</td>\n",
              "      <td>#na#</td>\n",
              "      <td>#na#</td>\n",
              "      <td>#na#</td>\n",
              "      <td>#na#</td>\n",
              "      <td>#na#</td>\n",
              "      <td>#na#</td>\n",
              "      <td>#na#</td>\n",
              "      <td>#na#</td>\n",
              "      <td>#na#</td>\n",
              "      <td>#na#</td>\n",
              "      <td>Standard</td>\n",
              "      <td>Conventional</td>\n",
              "      <td>False</td>\n",
              "      <td>False</td>\n",
              "      <td>1139248</td>\n",
              "      <td>57000</td>\n",
              "      <td>117657</td>\n",
              "      <td>77</td>\n",
              "      <td>3.0</td>\n",
              "      <td>1996</td>\n",
              "      <td>4640.0</td>\n",
              "      <td>57000</td>\n",
              "    </tr>\n",
              "    <tr>\n",
              "      <th>2</th>\n",
              "      <td>121</td>\n",
              "      <td>High</td>\n",
              "      <td>2004-02-26</td>\n",
              "      <td>226</td>\n",
              "      <td>226</td>\n",
              "      <td>#na#</td>\n",
              "      <td>#na#</td>\n",
              "      <td>#na#</td>\n",
              "      <td>#na#</td>\n",
              "      <td>Skid Steer Loader - 1351.0 to 1601.0 Lb Operating Capacity</td>\n",
              "      <td>New York</td>\n",
              "      <td>SSL</td>\n",
              "      <td>Skid Steer Loaders</td>\n",
              "      <td>#na#</td>\n",
              "      <td>OROPS</td>\n",
              "      <td>None or Unspecified</td>\n",
              "      <td>#na#</td>\n",
              "      <td>#na#</td>\n",
              "      <td>#na#</td>\n",
              "      <td>#na#</td>\n",
              "      <td>#na#</td>\n",
              "      <td>#na#</td>\n",
              "      <td>#na#</td>\n",
              "      <td>#na#</td>\n",
              "      <td>#na#</td>\n",
              "      <td>Auxiliary</td>\n",
              "      <td>#na#</td>\n",
              "      <td>#na#</td>\n",
              "      <td>#na#</td>\n",
              "      <td>#na#</td>\n",
              "      <td>#na#</td>\n",
              "      <td>None or Unspecified</td>\n",
              "      <td>None or Unspecified</td>\n",
              "      <td>None or Unspecified</td>\n",
              "      <td>Standard</td>\n",
              "      <td>#na#</td>\n",
              "      <td>#na#</td>\n",
              "      <td>#na#</td>\n",
              "      <td>#na#</td>\n",
              "      <td>#na#</td>\n",
              "      <td>#na#</td>\n",
              "      <td>#na#</td>\n",
              "      <td>#na#</td>\n",
              "      <td>#na#</td>\n",
              "      <td>#na#</td>\n",
              "      <td>#na#</td>\n",
              "      <td>False</td>\n",
              "      <td>False</td>\n",
              "      <td>1139249</td>\n",
              "      <td>10000</td>\n",
              "      <td>434808</td>\n",
              "      <td>7009</td>\n",
              "      <td>3.0</td>\n",
              "      <td>2001</td>\n",
              "      <td>2838.0</td>\n",
              "      <td>10000</td>\n",
              "    </tr>\n",
              "    <tr>\n",
              "      <th>3</th>\n",
              "      <td>121</td>\n",
              "      <td>High</td>\n",
              "      <td>2011-05-19</td>\n",
              "      <td>PC120-6E</td>\n",
              "      <td>PC120</td>\n",
              "      <td>#na#</td>\n",
              "      <td>-6E</td>\n",
              "      <td>#na#</td>\n",
              "      <td>Small</td>\n",
              "      <td>Hydraulic Excavator, Track - 12.0 to 14.0 Metric Tons</td>\n",
              "      <td>Texas</td>\n",
              "      <td>TEX</td>\n",
              "      <td>Track Excavators</td>\n",
              "      <td>#na#</td>\n",
              "      <td>EROPS w AC</td>\n",
              "      <td>#na#</td>\n",
              "      <td>#na#</td>\n",
              "      <td>#na#</td>\n",
              "      <td>#na#</td>\n",
              "      <td>#na#</td>\n",
              "      <td>#na#</td>\n",
              "      <td>#na#</td>\n",
              "      <td>#na#</td>\n",
              "      <td>#na#</td>\n",
              "      <td>#na#</td>\n",
              "      <td>2 Valve</td>\n",
              "      <td>#na#</td>\n",
              "      <td>#na#</td>\n",
              "      <td>#na#</td>\n",
              "      <td>#na#</td>\n",
              "      <td>#na#</td>\n",
              "      <td>None or Unspecified</td>\n",
              "      <td>#na#</td>\n",
              "      <td>#na#</td>\n",
              "      <td>#na#</td>\n",
              "      <td>#na#</td>\n",
              "      <td>#na#</td>\n",
              "      <td>#na#</td>\n",
              "      <td>#na#</td>\n",
              "      <td>#na#</td>\n",
              "      <td>#na#</td>\n",
              "      <td>#na#</td>\n",
              "      <td>#na#</td>\n",
              "      <td>#na#</td>\n",
              "      <td>#na#</td>\n",
              "      <td>#na#</td>\n",
              "      <td>False</td>\n",
              "      <td>False</td>\n",
              "      <td>1139251</td>\n",
              "      <td>38500</td>\n",
              "      <td>1026470</td>\n",
              "      <td>332</td>\n",
              "      <td>3.0</td>\n",
              "      <td>2001</td>\n",
              "      <td>3486.0</td>\n",
              "      <td>38500</td>\n",
              "    </tr>\n",
              "    <tr>\n",
              "      <th>4</th>\n",
              "      <td>121</td>\n",
              "      <td>Medium</td>\n",
              "      <td>2009-07-23</td>\n",
              "      <td>S175</td>\n",
              "      <td>S175</td>\n",
              "      <td>#na#</td>\n",
              "      <td>#na#</td>\n",
              "      <td>#na#</td>\n",
              "      <td>#na#</td>\n",
              "      <td>Skid Steer Loader - 1601.0 to 1751.0 Lb Operating Capacity</td>\n",
              "      <td>New York</td>\n",
              "      <td>SSL</td>\n",
              "      <td>Skid Steer Loaders</td>\n",
              "      <td>#na#</td>\n",
              "      <td>EROPS</td>\n",
              "      <td>None or Unspecified</td>\n",
              "      <td>#na#</td>\n",
              "      <td>#na#</td>\n",
              "      <td>#na#</td>\n",
              "      <td>#na#</td>\n",
              "      <td>#na#</td>\n",
              "      <td>#na#</td>\n",
              "      <td>#na#</td>\n",
              "      <td>#na#</td>\n",
              "      <td>#na#</td>\n",
              "      <td>Auxiliary</td>\n",
              "      <td>#na#</td>\n",
              "      <td>#na#</td>\n",
              "      <td>#na#</td>\n",
              "      <td>#na#</td>\n",
              "      <td>#na#</td>\n",
              "      <td>None or Unspecified</td>\n",
              "      <td>None or Unspecified</td>\n",
              "      <td>None or Unspecified</td>\n",
              "      <td>Standard</td>\n",
              "      <td>#na#</td>\n",
              "      <td>#na#</td>\n",
              "      <td>#na#</td>\n",
              "      <td>#na#</td>\n",
              "      <td>#na#</td>\n",
              "      <td>#na#</td>\n",
              "      <td>#na#</td>\n",
              "      <td>#na#</td>\n",
              "      <td>#na#</td>\n",
              "      <td>#na#</td>\n",
              "      <td>#na#</td>\n",
              "      <td>False</td>\n",
              "      <td>False</td>\n",
              "      <td>1139253</td>\n",
              "      <td>11000</td>\n",
              "      <td>1057373</td>\n",
              "      <td>17311</td>\n",
              "      <td>3.0</td>\n",
              "      <td>2007</td>\n",
              "      <td>722.0</td>\n",
              "      <td>11000</td>\n",
              "    </tr>\n",
              "    <tr>\n",
              "      <th>5</th>\n",
              "      <td>121</td>\n",
              "      <td>Low</td>\n",
              "      <td>2008-12-18</td>\n",
              "      <td>310G</td>\n",
              "      <td>310</td>\n",
              "      <td>G</td>\n",
              "      <td>#na#</td>\n",
              "      <td>#na#</td>\n",
              "      <td>#na#</td>\n",
              "      <td>Backhoe Loader - 14.0 to 15.0 Ft Standard Digging Depth</td>\n",
              "      <td>Arizona</td>\n",
              "      <td>BL</td>\n",
              "      <td>Backhoe Loaders</td>\n",
              "      <td>Four Wheel Drive</td>\n",
              "      <td>OROPS</td>\n",
              "      <td>None or Unspecified</td>\n",
              "      <td>None or Unspecified</td>\n",
              "      <td>No</td>\n",
              "      <td>Extended</td>\n",
              "      <td>Powershuttle</td>\n",
              "      <td>None or Unspecified</td>\n",
              "      <td>#na#</td>\n",
              "      <td>#na#</td>\n",
              "      <td>#na#</td>\n",
              "      <td>#na#</td>\n",
              "      <td>#na#</td>\n",
              "      <td>#na#</td>\n",
              "      <td>#na#</td>\n",
              "      <td>#na#</td>\n",
              "      <td>#na#</td>\n",
              "      <td>#na#</td>\n",
              "      <td>#na#</td>\n",
              "      <td>#na#</td>\n",
              "      <td>#na#</td>\n",
              "      <td>#na#</td>\n",
              "      <td>#na#</td>\n",
              "      <td>#na#</td>\n",
              "      <td>#na#</td>\n",
              "      <td>#na#</td>\n",
              "      <td>#na#</td>\n",
              "      <td>#na#</td>\n",
              "      <td>#na#</td>\n",
              "      <td>#na#</td>\n",
              "      <td>#na#</td>\n",
              "      <td>#na#</td>\n",
              "      <td>#na#</td>\n",
              "      <td>False</td>\n",
              "      <td>False</td>\n",
              "      <td>1139255</td>\n",
              "      <td>26500</td>\n",
              "      <td>1001274</td>\n",
              "      <td>4605</td>\n",
              "      <td>3.0</td>\n",
              "      <td>2004</td>\n",
              "      <td>508.0</td>\n",
              "      <td>26500</td>\n",
              "    </tr>\n",
              "    <tr>\n",
              "      <th>6</th>\n",
              "      <td>121</td>\n",
              "      <td>High</td>\n",
              "      <td>2004-08-26</td>\n",
              "      <td>790ELC</td>\n",
              "      <td>790</td>\n",
              "      <td>E</td>\n",
              "      <td>#na#</td>\n",
              "      <td>LC</td>\n",
              "      <td>Large / Medium</td>\n",
              "      <td>Hydraulic Excavator, Track - 21.0 to 24.0 Metric Tons</td>\n",
              "      <td>Florida</td>\n",
              "      <td>TEX</td>\n",
              "      <td>Track Excavators</td>\n",
              "      <td>#na#</td>\n",
              "      <td>EROPS</td>\n",
              "      <td>#na#</td>\n",
              "      <td>#na#</td>\n",
              "      <td>#na#</td>\n",
              "      <td>#na#</td>\n",
              "      <td>#na#</td>\n",
              "      <td>#na#</td>\n",
              "      <td>#na#</td>\n",
              "      <td>#na#</td>\n",
              "      <td>#na#</td>\n",
              "      <td>#na#</td>\n",
              "      <td>Standard</td>\n",
              "      <td>#na#</td>\n",
              "      <td>#na#</td>\n",
              "      <td>#na#</td>\n",
              "      <td>#na#</td>\n",
              "      <td>#na#</td>\n",
              "      <td>None or Unspecified</td>\n",
              "      <td>#na#</td>\n",
              "      <td>#na#</td>\n",
              "      <td>#na#</td>\n",
              "      <td>Steel</td>\n",
              "      <td>None or Unspecified</td>\n",
              "      <td>None or Unspecified</td>\n",
              "      <td>None or Unspecified</td>\n",
              "      <td>None or Unspecified</td>\n",
              "      <td>Double</td>\n",
              "      <td>#na#</td>\n",
              "      <td>#na#</td>\n",
              "      <td>#na#</td>\n",
              "      <td>#na#</td>\n",
              "      <td>#na#</td>\n",
              "      <td>False</td>\n",
              "      <td>False</td>\n",
              "      <td>1139256</td>\n",
              "      <td>21000</td>\n",
              "      <td>772701</td>\n",
              "      <td>1937</td>\n",
              "      <td>3.0</td>\n",
              "      <td>1993</td>\n",
              "      <td>11540.0</td>\n",
              "      <td>21000</td>\n",
              "    </tr>\n",
              "    <tr>\n",
              "      <th>7</th>\n",
              "      <td>121</td>\n",
              "      <td>High</td>\n",
              "      <td>2005-11-17</td>\n",
              "      <td>416D</td>\n",
              "      <td>416</td>\n",
              "      <td>D</td>\n",
              "      <td>#na#</td>\n",
              "      <td>#na#</td>\n",
              "      <td>#na#</td>\n",
              "      <td>Backhoe Loader - 14.0 to 15.0 Ft Standard Digging Depth</td>\n",
              "      <td>Illinois</td>\n",
              "      <td>BL</td>\n",
              "      <td>Backhoe Loaders</td>\n",
              "      <td>Four Wheel Drive</td>\n",
              "      <td>OROPS</td>\n",
              "      <td>None or Unspecified</td>\n",
              "      <td>Reversible</td>\n",
              "      <td>No</td>\n",
              "      <td>Standard</td>\n",
              "      <td>Standard</td>\n",
              "      <td>Yes</td>\n",
              "      <td>#na#</td>\n",
              "      <td>#na#</td>\n",
              "      <td>#na#</td>\n",
              "      <td>#na#</td>\n",
              "      <td>#na#</td>\n",
              "      <td>#na#</td>\n",
              "      <td>#na#</td>\n",
              "      <td>#na#</td>\n",
              "      <td>#na#</td>\n",
              "      <td>#na#</td>\n",
              "      <td>#na#</td>\n",
              "      <td>#na#</td>\n",
              "      <td>#na#</td>\n",
              "      <td>#na#</td>\n",
              "      <td>#na#</td>\n",
              "      <td>#na#</td>\n",
              "      <td>#na#</td>\n",
              "      <td>#na#</td>\n",
              "      <td>#na#</td>\n",
              "      <td>#na#</td>\n",
              "      <td>#na#</td>\n",
              "      <td>#na#</td>\n",
              "      <td>#na#</td>\n",
              "      <td>#na#</td>\n",
              "      <td>#na#</td>\n",
              "      <td>False</td>\n",
              "      <td>False</td>\n",
              "      <td>1139261</td>\n",
              "      <td>27000</td>\n",
              "      <td>902002</td>\n",
              "      <td>3539</td>\n",
              "      <td>3.0</td>\n",
              "      <td>2001</td>\n",
              "      <td>4883.0</td>\n",
              "      <td>27000</td>\n",
              "    </tr>\n",
              "    <tr>\n",
              "      <th>8</th>\n",
              "      <td>121</td>\n",
              "      <td>Low</td>\n",
              "      <td>2009-08-27</td>\n",
              "      <td>430HAG</td>\n",
              "      <td>430</td>\n",
              "      <td>HAG</td>\n",
              "      <td>#na#</td>\n",
              "      <td>#na#</td>\n",
              "      <td>Mini</td>\n",
              "      <td>Hydraulic Excavator, Track - 3.0 to 4.0 Metric Tons</td>\n",
              "      <td>Texas</td>\n",
              "      <td>TEX</td>\n",
              "      <td>Track Excavators</td>\n",
              "      <td>#na#</td>\n",
              "      <td>EROPS</td>\n",
              "      <td>#na#</td>\n",
              "      <td>#na#</td>\n",
              "      <td>#na#</td>\n",
              "      <td>#na#</td>\n",
              "      <td>#na#</td>\n",
              "      <td>#na#</td>\n",
              "      <td>#na#</td>\n",
              "      <td>#na#</td>\n",
              "      <td>#na#</td>\n",
              "      <td>#na#</td>\n",
              "      <td>Auxiliary</td>\n",
              "      <td>#na#</td>\n",
              "      <td>#na#</td>\n",
              "      <td>#na#</td>\n",
              "      <td>#na#</td>\n",
              "      <td>#na#</td>\n",
              "      <td>Manual</td>\n",
              "      <td>#na#</td>\n",
              "      <td>#na#</td>\n",
              "      <td>#na#</td>\n",
              "      <td>Rubber</td>\n",
              "      <td>None or Unspecified</td>\n",
              "      <td>None or Unspecified</td>\n",
              "      <td>None or Unspecified</td>\n",
              "      <td>None or Unspecified</td>\n",
              "      <td>Double</td>\n",
              "      <td>#na#</td>\n",
              "      <td>#na#</td>\n",
              "      <td>#na#</td>\n",
              "      <td>#na#</td>\n",
              "      <td>#na#</td>\n",
              "      <td>False</td>\n",
              "      <td>False</td>\n",
              "      <td>1139272</td>\n",
              "      <td>21500</td>\n",
              "      <td>1036251</td>\n",
              "      <td>36003</td>\n",
              "      <td>3.0</td>\n",
              "      <td>2008</td>\n",
              "      <td>302.0</td>\n",
              "      <td>21500</td>\n",
              "    </tr>\n",
              "    <tr>\n",
              "      <th>9</th>\n",
              "      <td>121</td>\n",
              "      <td>Medium</td>\n",
              "      <td>2007-08-09</td>\n",
              "      <td>988B</td>\n",
              "      <td>988</td>\n",
              "      <td>B</td>\n",
              "      <td>#na#</td>\n",
              "      <td>#na#</td>\n",
              "      <td>Large</td>\n",
              "      <td>Wheel Loader - 350.0 to 500.0 Horsepower</td>\n",
              "      <td>Florida</td>\n",
              "      <td>WL</td>\n",
              "      <td>Wheel Loader</td>\n",
              "      <td>#na#</td>\n",
              "      <td>EROPS w AC</td>\n",
              "      <td>None or Unspecified</td>\n",
              "      <td>#na#</td>\n",
              "      <td>None or Unspecified</td>\n",
              "      <td>#na#</td>\n",
              "      <td>#na#</td>\n",
              "      <td>#na#</td>\n",
              "      <td>#na#</td>\n",
              "      <td>#na#</td>\n",
              "      <td>#na#</td>\n",
              "      <td>#na#</td>\n",
              "      <td>2 Valve</td>\n",
              "      <td>#na#</td>\n",
              "      <td>#na#</td>\n",
              "      <td>#na#</td>\n",
              "      <td>#na#</td>\n",
              "      <td>None or Unspecified</td>\n",
              "      <td>None or Unspecified</td>\n",
              "      <td>#na#</td>\n",
              "      <td>#na#</td>\n",
              "      <td>#na#</td>\n",
              "      <td>#na#</td>\n",
              "      <td>#na#</td>\n",
              "      <td>#na#</td>\n",
              "      <td>#na#</td>\n",
              "      <td>#na#</td>\n",
              "      <td>#na#</td>\n",
              "      <td>#na#</td>\n",
              "      <td>#na#</td>\n",
              "      <td>#na#</td>\n",
              "      <td>Standard</td>\n",
              "      <td>Conventional</td>\n",
              "      <td>False</td>\n",
              "      <td>False</td>\n",
              "      <td>1139275</td>\n",
              "      <td>65000</td>\n",
              "      <td>1016474</td>\n",
              "      <td>3883</td>\n",
              "      <td>3.0</td>\n",
              "      <td>1000</td>\n",
              "      <td>20700.0</td>\n",
              "      <td>65000</td>\n",
              "    </tr>\n",
              "  </tbody>\n",
              "</table>"
            ],
            "text/plain": [
              "<IPython.core.display.HTML object>"
            ]
          },
          "metadata": {
            "tags": []
          }
        }
      ]
    },
    {
      "cell_type": "code",
      "metadata": {
        "id": "WqN_y3tpC9tN"
      },
      "source": [
        "# decode categories\n",
        "row = to.items.iloc[0]\n",
        "to.decode_row(row)"
      ],
      "execution_count": null,
      "outputs": []
    },
    {
      "cell_type": "code",
      "metadata": {
        "id": "0xZ8KuZAQXNd",
        "colab": {
          "base_uri": "https://localhost:8080/",
          "height": 163
        },
        "outputId": "5752bee2-c3f0-4205-c7ef-cd0d07d5d615"
      },
      "source": [
        "# row, clas, probs = learn.predict(df.iloc[0])"
      ],
      "execution_count": null,
      "outputs": [
        {
          "output_type": "error",
          "ename": "NameError",
          "evalue": "ignored",
          "traceback": [
            "\u001b[0;31m---------------------------------------------------------------------------\u001b[0m",
            "\u001b[0;31mNameError\u001b[0m                                 Traceback (most recent call last)",
            "\u001b[0;32m<ipython-input-32-e1c674150914>\u001b[0m in \u001b[0;36m<module>\u001b[0;34m()\u001b[0m\n\u001b[0;32m----> 1\u001b[0;31m \u001b[0mrow\u001b[0m\u001b[0;34m,\u001b[0m \u001b[0mclas\u001b[0m\u001b[0;34m,\u001b[0m \u001b[0mprobs\u001b[0m \u001b[0;34m=\u001b[0m \u001b[0mlearn\u001b[0m\u001b[0;34m.\u001b[0m\u001b[0mpredict\u001b[0m\u001b[0;34m(\u001b[0m\u001b[0mdf\u001b[0m\u001b[0;34m.\u001b[0m\u001b[0miloc\u001b[0m\u001b[0;34m[\u001b[0m\u001b[0;36m0\u001b[0m\u001b[0;34m]\u001b[0m\u001b[0;34m)\u001b[0m\u001b[0;34m\u001b[0m\u001b[0;34m\u001b[0m\u001b[0m\n\u001b[0m",
            "\u001b[0;31mNameError\u001b[0m: name 'learn' is not defined"
          ]
        }
      ]
    },
    {
      "cell_type": "markdown",
      "metadata": {
        "id": "v-cC1h1lWA8V"
      },
      "source": [
        "# Train"
      ]
    },
    {
      "cell_type": "markdown",
      "metadata": {
        "id": "bFJp-KGeU6Dp"
      },
      "source": [
        "## SKlearn `RandomForestRegressor` Model definition\n",
        "\n"
      ]
    },
    {
      "cell_type": "markdown",
      "metadata": {
        "id": "IVclHvC3VDAQ"
      },
      "source": [
        "### First model"
      ]
    },
    {
      "cell_type": "code",
      "metadata": {
        "id": "52x-JvVSU4y0"
      },
      "source": [
        "from sklearn.ensemble import RandomForestRegressor\n",
        "model = RandomForestRegressor(n_estimators=20, max_features=0.3, random_state=0)"
      ],
      "execution_count": null,
      "outputs": []
    },
    {
      "cell_type": "markdown",
      "metadata": {
        "id": "JKMxnwNtZgkA"
      },
      "source": [
        "### Custom `fit`"
      ]
    },
    {
      "cell_type": "code",
      "metadata": {
        "id": "1R0IFkSzZ6PO",
        "colab": {
          "base_uri": "https://localhost:8080/",
          "height": 374
        },
        "outputId": "67601a40-5182-4527-a1ae-05f1d942e44c"
      },
      "source": [
        "%%time\n",
        "model.fit(x_train, Y_train)"
      ],
      "execution_count": null,
      "outputs": [
        {
          "output_type": "error",
          "ename": "ValueError",
          "evalue": "ignored",
          "traceback": [
            "\u001b[0;31m---------------------------------------------------------------------------\u001b[0m",
            "\u001b[0;31mValueError\u001b[0m                                Traceback (most recent call last)",
            "\u001b[0;32m<ipython-input-34-815ba842244c>\u001b[0m in \u001b[0;36m<module>\u001b[0;34m()\u001b[0m\n\u001b[0;32m----> 1\u001b[0;31m \u001b[0mget_ipython\u001b[0m\u001b[0;34m(\u001b[0m\u001b[0;34m)\u001b[0m\u001b[0;34m.\u001b[0m\u001b[0mrun_cell_magic\u001b[0m\u001b[0;34m(\u001b[0m\u001b[0;34m'time'\u001b[0m\u001b[0;34m,\u001b[0m \u001b[0;34m''\u001b[0m\u001b[0;34m,\u001b[0m \u001b[0;34m'model.fit(x_train, Y_train)'\u001b[0m\u001b[0;34m)\u001b[0m\u001b[0;34m\u001b[0m\u001b[0;34m\u001b[0m\u001b[0m\n\u001b[0m",
            "\u001b[0;32m/usr/local/lib/python3.6/dist-packages/IPython/core/interactiveshell.py\u001b[0m in \u001b[0;36mrun_cell_magic\u001b[0;34m(self, magic_name, line, cell)\u001b[0m\n\u001b[1;32m   2115\u001b[0m             \u001b[0mmagic_arg_s\u001b[0m \u001b[0;34m=\u001b[0m \u001b[0mself\u001b[0m\u001b[0;34m.\u001b[0m\u001b[0mvar_expand\u001b[0m\u001b[0;34m(\u001b[0m\u001b[0mline\u001b[0m\u001b[0;34m,\u001b[0m \u001b[0mstack_depth\u001b[0m\u001b[0;34m)\u001b[0m\u001b[0;34m\u001b[0m\u001b[0;34m\u001b[0m\u001b[0m\n\u001b[1;32m   2116\u001b[0m             \u001b[0;32mwith\u001b[0m \u001b[0mself\u001b[0m\u001b[0;34m.\u001b[0m\u001b[0mbuiltin_trap\u001b[0m\u001b[0;34m:\u001b[0m\u001b[0;34m\u001b[0m\u001b[0;34m\u001b[0m\u001b[0m\n\u001b[0;32m-> 2117\u001b[0;31m                 \u001b[0mresult\u001b[0m \u001b[0;34m=\u001b[0m \u001b[0mfn\u001b[0m\u001b[0;34m(\u001b[0m\u001b[0mmagic_arg_s\u001b[0m\u001b[0;34m,\u001b[0m \u001b[0mcell\u001b[0m\u001b[0;34m)\u001b[0m\u001b[0;34m\u001b[0m\u001b[0;34m\u001b[0m\u001b[0m\n\u001b[0m\u001b[1;32m   2118\u001b[0m             \u001b[0;32mreturn\u001b[0m \u001b[0mresult\u001b[0m\u001b[0;34m\u001b[0m\u001b[0;34m\u001b[0m\u001b[0m\n\u001b[1;32m   2119\u001b[0m \u001b[0;34m\u001b[0m\u001b[0m\n",
            "\u001b[0;32m<decorator-gen-60>\u001b[0m in \u001b[0;36mtime\u001b[0;34m(self, line, cell, local_ns)\u001b[0m\n",
            "\u001b[0;32m/usr/local/lib/python3.6/dist-packages/IPython/core/magic.py\u001b[0m in \u001b[0;36m<lambda>\u001b[0;34m(f, *a, **k)\u001b[0m\n\u001b[1;32m    186\u001b[0m     \u001b[0;31m# but it's overkill for just that one bit of state.\u001b[0m\u001b[0;34m\u001b[0m\u001b[0;34m\u001b[0m\u001b[0;34m\u001b[0m\u001b[0m\n\u001b[1;32m    187\u001b[0m     \u001b[0;32mdef\u001b[0m \u001b[0mmagic_deco\u001b[0m\u001b[0;34m(\u001b[0m\u001b[0marg\u001b[0m\u001b[0;34m)\u001b[0m\u001b[0;34m:\u001b[0m\u001b[0;34m\u001b[0m\u001b[0;34m\u001b[0m\u001b[0m\n\u001b[0;32m--> 188\u001b[0;31m         \u001b[0mcall\u001b[0m \u001b[0;34m=\u001b[0m \u001b[0;32mlambda\u001b[0m \u001b[0mf\u001b[0m\u001b[0;34m,\u001b[0m \u001b[0;34m*\u001b[0m\u001b[0ma\u001b[0m\u001b[0;34m,\u001b[0m \u001b[0;34m**\u001b[0m\u001b[0mk\u001b[0m\u001b[0;34m:\u001b[0m \u001b[0mf\u001b[0m\u001b[0;34m(\u001b[0m\u001b[0;34m*\u001b[0m\u001b[0ma\u001b[0m\u001b[0;34m,\u001b[0m \u001b[0;34m**\u001b[0m\u001b[0mk\u001b[0m\u001b[0;34m)\u001b[0m\u001b[0;34m\u001b[0m\u001b[0;34m\u001b[0m\u001b[0m\n\u001b[0m\u001b[1;32m    189\u001b[0m \u001b[0;34m\u001b[0m\u001b[0m\n\u001b[1;32m    190\u001b[0m         \u001b[0;32mif\u001b[0m \u001b[0mcallable\u001b[0m\u001b[0;34m(\u001b[0m\u001b[0marg\u001b[0m\u001b[0;34m)\u001b[0m\u001b[0;34m:\u001b[0m\u001b[0;34m\u001b[0m\u001b[0;34m\u001b[0m\u001b[0m\n",
            "\u001b[0;32m/usr/local/lib/python3.6/dist-packages/IPython/core/magics/execution.py\u001b[0m in \u001b[0;36mtime\u001b[0;34m(self, line, cell, local_ns)\u001b[0m\n\u001b[1;32m   1187\u001b[0m         \u001b[0;32mif\u001b[0m \u001b[0mmode\u001b[0m\u001b[0;34m==\u001b[0m\u001b[0;34m'eval'\u001b[0m\u001b[0;34m:\u001b[0m\u001b[0;34m\u001b[0m\u001b[0;34m\u001b[0m\u001b[0m\n\u001b[1;32m   1188\u001b[0m             \u001b[0mst\u001b[0m \u001b[0;34m=\u001b[0m \u001b[0mclock2\u001b[0m\u001b[0;34m(\u001b[0m\u001b[0;34m)\u001b[0m\u001b[0;34m\u001b[0m\u001b[0;34m\u001b[0m\u001b[0m\n\u001b[0;32m-> 1189\u001b[0;31m             \u001b[0mout\u001b[0m \u001b[0;34m=\u001b[0m \u001b[0meval\u001b[0m\u001b[0;34m(\u001b[0m\u001b[0mcode\u001b[0m\u001b[0;34m,\u001b[0m \u001b[0mglob\u001b[0m\u001b[0;34m,\u001b[0m \u001b[0mlocal_ns\u001b[0m\u001b[0;34m)\u001b[0m\u001b[0;34m\u001b[0m\u001b[0;34m\u001b[0m\u001b[0m\n\u001b[0m\u001b[1;32m   1190\u001b[0m             \u001b[0mend\u001b[0m \u001b[0;34m=\u001b[0m \u001b[0mclock2\u001b[0m\u001b[0;34m(\u001b[0m\u001b[0;34m)\u001b[0m\u001b[0;34m\u001b[0m\u001b[0;34m\u001b[0m\u001b[0m\n\u001b[1;32m   1191\u001b[0m         \u001b[0;32melse\u001b[0m\u001b[0;34m:\u001b[0m\u001b[0;34m\u001b[0m\u001b[0;34m\u001b[0m\u001b[0m\n",
            "\u001b[0;32m<timed eval>\u001b[0m in \u001b[0;36m<module>\u001b[0;34m()\u001b[0m\n",
            "\u001b[0;32m/usr/local/lib/python3.6/dist-packages/sklearn/ensemble/_forest.py\u001b[0m in \u001b[0;36mfit\u001b[0;34m(self, X, y, sample_weight)\u001b[0m\n\u001b[1;32m    293\u001b[0m         \"\"\"\n\u001b[1;32m    294\u001b[0m         \u001b[0;31m# Validate or convert input data\u001b[0m\u001b[0;34m\u001b[0m\u001b[0;34m\u001b[0m\u001b[0;34m\u001b[0m\u001b[0m\n\u001b[0;32m--> 295\u001b[0;31m         \u001b[0mX\u001b[0m \u001b[0;34m=\u001b[0m \u001b[0mcheck_array\u001b[0m\u001b[0;34m(\u001b[0m\u001b[0mX\u001b[0m\u001b[0;34m,\u001b[0m \u001b[0maccept_sparse\u001b[0m\u001b[0;34m=\u001b[0m\u001b[0;34m\"csc\"\u001b[0m\u001b[0;34m,\u001b[0m \u001b[0mdtype\u001b[0m\u001b[0;34m=\u001b[0m\u001b[0mDTYPE\u001b[0m\u001b[0;34m)\u001b[0m\u001b[0;34m\u001b[0m\u001b[0;34m\u001b[0m\u001b[0m\n\u001b[0m\u001b[1;32m    296\u001b[0m         \u001b[0my\u001b[0m \u001b[0;34m=\u001b[0m \u001b[0mcheck_array\u001b[0m\u001b[0;34m(\u001b[0m\u001b[0my\u001b[0m\u001b[0;34m,\u001b[0m \u001b[0maccept_sparse\u001b[0m\u001b[0;34m=\u001b[0m\u001b[0;34m'csc'\u001b[0m\u001b[0;34m,\u001b[0m \u001b[0mensure_2d\u001b[0m\u001b[0;34m=\u001b[0m\u001b[0;32mFalse\u001b[0m\u001b[0;34m,\u001b[0m \u001b[0mdtype\u001b[0m\u001b[0;34m=\u001b[0m\u001b[0;32mNone\u001b[0m\u001b[0;34m)\u001b[0m\u001b[0;34m\u001b[0m\u001b[0;34m\u001b[0m\u001b[0m\n\u001b[1;32m    297\u001b[0m         \u001b[0;32mif\u001b[0m \u001b[0msample_weight\u001b[0m \u001b[0;32mis\u001b[0m \u001b[0;32mnot\u001b[0m \u001b[0;32mNone\u001b[0m\u001b[0;34m:\u001b[0m\u001b[0;34m\u001b[0m\u001b[0;34m\u001b[0m\u001b[0m\n",
            "\u001b[0;32m/usr/local/lib/python3.6/dist-packages/sklearn/utils/validation.py\u001b[0m in \u001b[0;36mcheck_array\u001b[0;34m(array, accept_sparse, accept_large_sparse, dtype, order, copy, force_all_finite, ensure_2d, allow_nd, ensure_min_samples, ensure_min_features, warn_on_dtype, estimator)\u001b[0m\n\u001b[1;32m    529\u001b[0m                     \u001b[0marray\u001b[0m \u001b[0;34m=\u001b[0m \u001b[0marray\u001b[0m\u001b[0;34m.\u001b[0m\u001b[0mastype\u001b[0m\u001b[0;34m(\u001b[0m\u001b[0mdtype\u001b[0m\u001b[0;34m,\u001b[0m \u001b[0mcasting\u001b[0m\u001b[0;34m=\u001b[0m\u001b[0;34m\"unsafe\"\u001b[0m\u001b[0;34m,\u001b[0m \u001b[0mcopy\u001b[0m\u001b[0;34m=\u001b[0m\u001b[0;32mFalse\u001b[0m\u001b[0;34m)\u001b[0m\u001b[0;34m\u001b[0m\u001b[0;34m\u001b[0m\u001b[0m\n\u001b[1;32m    530\u001b[0m                 \u001b[0;32melse\u001b[0m\u001b[0;34m:\u001b[0m\u001b[0;34m\u001b[0m\u001b[0;34m\u001b[0m\u001b[0m\n\u001b[0;32m--> 531\u001b[0;31m                     \u001b[0marray\u001b[0m \u001b[0;34m=\u001b[0m \u001b[0mnp\u001b[0m\u001b[0;34m.\u001b[0m\u001b[0masarray\u001b[0m\u001b[0;34m(\u001b[0m\u001b[0marray\u001b[0m\u001b[0;34m,\u001b[0m \u001b[0morder\u001b[0m\u001b[0;34m=\u001b[0m\u001b[0morder\u001b[0m\u001b[0;34m,\u001b[0m \u001b[0mdtype\u001b[0m\u001b[0;34m=\u001b[0m\u001b[0mdtype\u001b[0m\u001b[0;34m)\u001b[0m\u001b[0;34m\u001b[0m\u001b[0;34m\u001b[0m\u001b[0m\n\u001b[0m\u001b[1;32m    532\u001b[0m             \u001b[0;32mexcept\u001b[0m \u001b[0mComplexWarning\u001b[0m\u001b[0;34m:\u001b[0m\u001b[0;34m\u001b[0m\u001b[0;34m\u001b[0m\u001b[0m\n\u001b[1;32m    533\u001b[0m                 raise ValueError(\"Complex data not supported\\n\"\n",
            "\u001b[0;32m/usr/local/lib/python3.6/dist-packages/numpy/core/_asarray.py\u001b[0m in \u001b[0;36masarray\u001b[0;34m(a, dtype, order)\u001b[0m\n\u001b[1;32m     83\u001b[0m \u001b[0;34m\u001b[0m\u001b[0m\n\u001b[1;32m     84\u001b[0m     \"\"\"\n\u001b[0;32m---> 85\u001b[0;31m     \u001b[0;32mreturn\u001b[0m \u001b[0marray\u001b[0m\u001b[0;34m(\u001b[0m\u001b[0ma\u001b[0m\u001b[0;34m,\u001b[0m \u001b[0mdtype\u001b[0m\u001b[0;34m,\u001b[0m \u001b[0mcopy\u001b[0m\u001b[0;34m=\u001b[0m\u001b[0;32mFalse\u001b[0m\u001b[0;34m,\u001b[0m \u001b[0morder\u001b[0m\u001b[0;34m=\u001b[0m\u001b[0morder\u001b[0m\u001b[0;34m)\u001b[0m\u001b[0;34m\u001b[0m\u001b[0;34m\u001b[0m\u001b[0m\n\u001b[0m\u001b[1;32m     86\u001b[0m \u001b[0;34m\u001b[0m\u001b[0m\n\u001b[1;32m     87\u001b[0m \u001b[0;34m\u001b[0m\u001b[0m\n",
            "\u001b[0;32m/usr/local/lib/python3.6/dist-packages/pandas/core/generic.py\u001b[0m in \u001b[0;36m__array__\u001b[0;34m(self, dtype)\u001b[0m\n\u001b[1;32m   1779\u001b[0m \u001b[0;34m\u001b[0m\u001b[0m\n\u001b[1;32m   1780\u001b[0m     \u001b[0;32mdef\u001b[0m \u001b[0m__array__\u001b[0m\u001b[0;34m(\u001b[0m\u001b[0mself\u001b[0m\u001b[0;34m,\u001b[0m \u001b[0mdtype\u001b[0m\u001b[0;34m=\u001b[0m\u001b[0;32mNone\u001b[0m\u001b[0;34m)\u001b[0m \u001b[0;34m->\u001b[0m \u001b[0mnp\u001b[0m\u001b[0;34m.\u001b[0m\u001b[0mndarray\u001b[0m\u001b[0;34m:\u001b[0m\u001b[0;34m\u001b[0m\u001b[0;34m\u001b[0m\u001b[0m\n\u001b[0;32m-> 1781\u001b[0;31m         \u001b[0;32mreturn\u001b[0m \u001b[0mnp\u001b[0m\u001b[0;34m.\u001b[0m\u001b[0masarray\u001b[0m\u001b[0;34m(\u001b[0m\u001b[0mself\u001b[0m\u001b[0;34m.\u001b[0m\u001b[0m_values\u001b[0m\u001b[0;34m,\u001b[0m \u001b[0mdtype\u001b[0m\u001b[0;34m=\u001b[0m\u001b[0mdtype\u001b[0m\u001b[0;34m)\u001b[0m\u001b[0;34m\u001b[0m\u001b[0;34m\u001b[0m\u001b[0m\n\u001b[0m\u001b[1;32m   1782\u001b[0m \u001b[0;34m\u001b[0m\u001b[0m\n\u001b[1;32m   1783\u001b[0m     \u001b[0;32mdef\u001b[0m \u001b[0m__array_wrap__\u001b[0m\u001b[0;34m(\u001b[0m\u001b[0mself\u001b[0m\u001b[0;34m,\u001b[0m \u001b[0mresult\u001b[0m\u001b[0;34m,\u001b[0m \u001b[0mcontext\u001b[0m\u001b[0;34m=\u001b[0m\u001b[0;32mNone\u001b[0m\u001b[0;34m)\u001b[0m\u001b[0;34m:\u001b[0m\u001b[0;34m\u001b[0m\u001b[0;34m\u001b[0m\u001b[0m\n",
            "\u001b[0;32m/usr/local/lib/python3.6/dist-packages/numpy/core/_asarray.py\u001b[0m in \u001b[0;36masarray\u001b[0;34m(a, dtype, order)\u001b[0m\n\u001b[1;32m     83\u001b[0m \u001b[0;34m\u001b[0m\u001b[0m\n\u001b[1;32m     84\u001b[0m     \"\"\"\n\u001b[0;32m---> 85\u001b[0;31m     \u001b[0;32mreturn\u001b[0m \u001b[0marray\u001b[0m\u001b[0;34m(\u001b[0m\u001b[0ma\u001b[0m\u001b[0;34m,\u001b[0m \u001b[0mdtype\u001b[0m\u001b[0;34m,\u001b[0m \u001b[0mcopy\u001b[0m\u001b[0;34m=\u001b[0m\u001b[0;32mFalse\u001b[0m\u001b[0;34m,\u001b[0m \u001b[0morder\u001b[0m\u001b[0;34m=\u001b[0m\u001b[0morder\u001b[0m\u001b[0;34m)\u001b[0m\u001b[0;34m\u001b[0m\u001b[0;34m\u001b[0m\u001b[0m\n\u001b[0m\u001b[1;32m     86\u001b[0m \u001b[0;34m\u001b[0m\u001b[0m\n\u001b[1;32m     87\u001b[0m \u001b[0;34m\u001b[0m\u001b[0m\n",
            "\u001b[0;31mValueError\u001b[0m: could not convert string to float: 'Low'"
          ]
        }
      ]
    },
    {
      "cell_type": "code",
      "metadata": {
        "id": "XSnxzdDhPRoU"
      },
      "source": [
        "predictions = model.predict(X)"
      ],
      "execution_count": null,
      "outputs": []
    },
    {
      "cell_type": "markdown",
      "metadata": {
        "id": "lLC34FaRZk_Y"
      },
      "source": [
        "### Fast AI `fit`"
      ]
    },
    {
      "cell_type": "code",
      "metadata": {
        "id": "T8u3Fl9kZpWH"
      },
      "source": [
        "X_train_f, y_train_f = to.train.xs, to.train.ys.values.ravel()\n",
        "X_test_f, y_test_f = to.valid.xs, to.valid.ys.values.ravel()"
      ],
      "execution_count": null,
      "outputs": []
    },
    {
      "cell_type": "code",
      "metadata": {
        "colab": {
          "base_uri": "https://localhost:8080/"
        },
        "id": "HTNfPFFmZtYj",
        "outputId": "858cf313-257c-4509-b7be-478fef987817"
      },
      "source": [
        "%%time\n",
        "model.fit(X_train_f, y_train_f)"
      ],
      "execution_count": null,
      "outputs": [
        {
          "output_type": "stream",
          "text": [
            "CPU times: user 28.7 s, sys: 11 ms, total: 28.8 s\n",
            "Wall time: 28.8 s\n"
          ],
          "name": "stdout"
        },
        {
          "output_type": "execute_result",
          "data": {
            "text/plain": [
              "RandomForestRegressor(bootstrap=True, ccp_alpha=0.0, criterion='mse',\n",
              "                      max_depth=None, max_features=0.3, max_leaf_nodes=None,\n",
              "                      max_samples=None, min_impurity_decrease=0.0,\n",
              "                      min_impurity_split=None, min_samples_leaf=1,\n",
              "                      min_samples_split=2, min_weight_fraction_leaf=0.0,\n",
              "                      n_estimators=20, n_jobs=None, oob_score=False,\n",
              "                      random_state=0, verbose=0, warm_start=False)"
            ]
          },
          "metadata": {
            "tags": []
          },
          "execution_count": 36
        }
      ]
    },
    {
      "cell_type": "markdown",
      "metadata": {
        "id": "MX_QoL2BajyN"
      },
      "source": [
        "# Evaluate"
      ]
    },
    {
      "cell_type": "markdown",
      "metadata": {
        "id": "jdX60DuLamDo"
      },
      "source": [
        "## SKlearn custom"
      ]
    },
    {
      "cell_type": "code",
      "metadata": {
        "id": "iKhnem8TbE2S"
      },
      "source": [
        "from sklearn import metrics\n",
        "from sklearn.metrics import mean_absolute_error"
      ],
      "execution_count": null,
      "outputs": []
    },
    {
      "cell_type": "code",
      "metadata": {
        "colab": {
          "base_uri": "https://localhost:8080/"
        },
        "id": "l7X4HWEkaHJ0",
        "outputId": "9f124faf-ebe5-471e-e8fd-da3b80e38d96"
      },
      "source": [
        "# get predicted prices on validation data\n",
        "predicted = model.predict(X_test_f)\n",
        "print(mean_absolute_error(y_test_f, predicted))"
      ],
      "execution_count": null,
      "outputs": [
        {
          "output_type": "stream",
          "text": [
            "0.011748369689584143\n"
          ],
          "name": "stdout"
        }
      ]
    },
    {
      "cell_type": "code",
      "metadata": {
        "id": "zY7Ok00nd8nW",
        "colab": {
          "base_uri": "https://localhost:8080/"
        },
        "outputId": "f486127b-7560-4603-e686-bf822cf10a85"
      },
      "source": [
        "type(predicted)"
      ],
      "execution_count": null,
      "outputs": [
        {
          "output_type": "execute_result",
          "data": {
            "text/plain": [
              "numpy.ndarray"
            ]
          },
          "metadata": {
            "tags": []
          },
          "execution_count": 40
        }
      ]
    },
    {
      "cell_type": "code",
      "metadata": {
        "id": "TSt2ankRLJdJ",
        "colab": {
          "base_uri": "https://localhost:8080/",
          "height": 306
        },
        "outputId": "177f0833-e577-4d9d-b5f1-b4f2baddb3d4"
      },
      "source": [
        "rmse(predicted, y_test_f)"
      ],
      "execution_count": null,
      "outputs": [
        {
          "output_type": "error",
          "ename": "AttributeError",
          "evalue": "ignored",
          "traceback": [
            "\u001b[0;31m---------------------------------------------------------------------------\u001b[0m",
            "\u001b[0;31mAttributeError\u001b[0m                            Traceback (most recent call last)",
            "\u001b[0;32m<ipython-input-42-2d7978976035>\u001b[0m in \u001b[0;36m<module>\u001b[0;34m()\u001b[0m\n\u001b[0;32m----> 1\u001b[0;31m \u001b[0mrmse\u001b[0m\u001b[0;34m(\u001b[0m\u001b[0mpredicted\u001b[0m\u001b[0;34m,\u001b[0m \u001b[0my_test_f\u001b[0m\u001b[0;34m)\u001b[0m\u001b[0;34m\u001b[0m\u001b[0;34m\u001b[0m\u001b[0m\n\u001b[0m",
            "\u001b[0;32m/usr/local/lib/python3.6/dist-packages/fastai/metrics.py\u001b[0m in \u001b[0;36m__call__\u001b[0;34m(self, preds, targs)\u001b[0m\n\u001b[1;32m     58\u001b[0m         \u001b[0;34m\"Calculate metric on one batch of data\"\u001b[0m\u001b[0;34m\u001b[0m\u001b[0;34m\u001b[0m\u001b[0m\n\u001b[1;32m     59\u001b[0m         \u001b[0mself\u001b[0m\u001b[0;34m.\u001b[0m\u001b[0mreset\u001b[0m\u001b[0;34m(\u001b[0m\u001b[0;34m)\u001b[0m\u001b[0;34m\u001b[0m\u001b[0;34m\u001b[0m\u001b[0m\n\u001b[0;32m---> 60\u001b[0;31m         \u001b[0mself\u001b[0m\u001b[0;34m.\u001b[0m\u001b[0maccum_values\u001b[0m\u001b[0;34m(\u001b[0m\u001b[0mpreds\u001b[0m\u001b[0;34m,\u001b[0m\u001b[0mtargs\u001b[0m\u001b[0;34m)\u001b[0m\u001b[0;34m\u001b[0m\u001b[0;34m\u001b[0m\u001b[0m\n\u001b[0m\u001b[1;32m     61\u001b[0m         \u001b[0;32mreturn\u001b[0m \u001b[0mself\u001b[0m\u001b[0;34m.\u001b[0m\u001b[0mvalue\u001b[0m\u001b[0;34m\u001b[0m\u001b[0;34m\u001b[0m\u001b[0m\n\u001b[1;32m     62\u001b[0m \u001b[0;34m\u001b[0m\u001b[0m\n",
            "\u001b[0;32m/usr/local/lib/python3.6/dist-packages/fastai/metrics.py\u001b[0m in \u001b[0;36maccum_values\u001b[0;34m(self, preds, targs, learn)\u001b[0m\n\u001b[1;32m     51\u001b[0m         \u001b[0mto_d\u001b[0m \u001b[0;34m=\u001b[0m \u001b[0mlearn\u001b[0m\u001b[0;34m.\u001b[0m\u001b[0mto_detach\u001b[0m \u001b[0;32mif\u001b[0m \u001b[0mlearn\u001b[0m \u001b[0;32mis\u001b[0m \u001b[0;32mnot\u001b[0m \u001b[0;32mNone\u001b[0m \u001b[0;32melse\u001b[0m \u001b[0mto_detach\u001b[0m\u001b[0;34m\u001b[0m\u001b[0;34m\u001b[0m\u001b[0m\n\u001b[1;32m     52\u001b[0m         \u001b[0mpreds\u001b[0m\u001b[0;34m,\u001b[0m\u001b[0mtargs\u001b[0m \u001b[0;34m=\u001b[0m \u001b[0mto_d\u001b[0m\u001b[0;34m(\u001b[0m\u001b[0mpreds\u001b[0m\u001b[0;34m)\u001b[0m\u001b[0;34m,\u001b[0m\u001b[0mto_d\u001b[0m\u001b[0;34m(\u001b[0m\u001b[0mtargs\u001b[0m\u001b[0;34m)\u001b[0m\u001b[0;34m\u001b[0m\u001b[0;34m\u001b[0m\u001b[0m\n\u001b[0;32m---> 53\u001b[0;31m         \u001b[0;32mif\u001b[0m \u001b[0mself\u001b[0m\u001b[0;34m.\u001b[0m\u001b[0mflatten\u001b[0m\u001b[0;34m:\u001b[0m \u001b[0mpreds\u001b[0m\u001b[0;34m,\u001b[0m\u001b[0mtargs\u001b[0m \u001b[0;34m=\u001b[0m \u001b[0mflatten_check\u001b[0m\u001b[0;34m(\u001b[0m\u001b[0mpreds\u001b[0m\u001b[0;34m,\u001b[0m\u001b[0mtargs\u001b[0m\u001b[0;34m)\u001b[0m\u001b[0;34m\u001b[0m\u001b[0;34m\u001b[0m\u001b[0m\n\u001b[0m\u001b[1;32m     54\u001b[0m         \u001b[0mself\u001b[0m\u001b[0;34m.\u001b[0m\u001b[0mpreds\u001b[0m\u001b[0;34m.\u001b[0m\u001b[0mappend\u001b[0m\u001b[0;34m(\u001b[0m\u001b[0mpreds\u001b[0m\u001b[0;34m)\u001b[0m\u001b[0;34m\u001b[0m\u001b[0;34m\u001b[0m\u001b[0m\n\u001b[1;32m     55\u001b[0m         \u001b[0mself\u001b[0m\u001b[0;34m.\u001b[0m\u001b[0mtargs\u001b[0m\u001b[0;34m.\u001b[0m\u001b[0mappend\u001b[0m\u001b[0;34m(\u001b[0m\u001b[0mtargs\u001b[0m\u001b[0;34m)\u001b[0m\u001b[0;34m\u001b[0m\u001b[0;34m\u001b[0m\u001b[0m\n",
            "\u001b[0;32m/usr/local/lib/python3.6/dist-packages/fastai/torch_core.py\u001b[0m in \u001b[0;36mflatten_check\u001b[0;34m(inp, targ)\u001b[0m\n\u001b[1;32m    780\u001b[0m \u001b[0;32mdef\u001b[0m \u001b[0mflatten_check\u001b[0m\u001b[0;34m(\u001b[0m\u001b[0minp\u001b[0m\u001b[0;34m,\u001b[0m \u001b[0mtarg\u001b[0m\u001b[0;34m)\u001b[0m\u001b[0;34m:\u001b[0m\u001b[0;34m\u001b[0m\u001b[0;34m\u001b[0m\u001b[0m\n\u001b[1;32m    781\u001b[0m     \u001b[0;34m\"Check that `out` and `targ` have the same number of elements and flatten them.\"\u001b[0m\u001b[0;34m\u001b[0m\u001b[0;34m\u001b[0m\u001b[0m\n\u001b[0;32m--> 782\u001b[0;31m     \u001b[0minp\u001b[0m\u001b[0;34m,\u001b[0m\u001b[0mtarg\u001b[0m \u001b[0;34m=\u001b[0m \u001b[0minp\u001b[0m\u001b[0;34m.\u001b[0m\u001b[0mcontiguous\u001b[0m\u001b[0;34m(\u001b[0m\u001b[0;34m)\u001b[0m\u001b[0;34m.\u001b[0m\u001b[0mview\u001b[0m\u001b[0;34m(\u001b[0m\u001b[0;34m-\u001b[0m\u001b[0;36m1\u001b[0m\u001b[0;34m)\u001b[0m\u001b[0;34m,\u001b[0m\u001b[0mtarg\u001b[0m\u001b[0;34m.\u001b[0m\u001b[0mcontiguous\u001b[0m\u001b[0;34m(\u001b[0m\u001b[0;34m)\u001b[0m\u001b[0;34m.\u001b[0m\u001b[0mview\u001b[0m\u001b[0;34m(\u001b[0m\u001b[0;34m-\u001b[0m\u001b[0;36m1\u001b[0m\u001b[0;34m)\u001b[0m\u001b[0;34m\u001b[0m\u001b[0;34m\u001b[0m\u001b[0m\n\u001b[0m\u001b[1;32m    783\u001b[0m     \u001b[0mtest_eq\u001b[0m\u001b[0;34m(\u001b[0m\u001b[0mlen\u001b[0m\u001b[0;34m(\u001b[0m\u001b[0minp\u001b[0m\u001b[0;34m)\u001b[0m\u001b[0;34m,\u001b[0m \u001b[0mlen\u001b[0m\u001b[0;34m(\u001b[0m\u001b[0mtarg\u001b[0m\u001b[0;34m)\u001b[0m\u001b[0;34m)\u001b[0m\u001b[0;34m\u001b[0m\u001b[0;34m\u001b[0m\u001b[0m\n\u001b[1;32m    784\u001b[0m     \u001b[0;32mreturn\u001b[0m \u001b[0minp\u001b[0m\u001b[0;34m,\u001b[0m\u001b[0mtarg\u001b[0m\u001b[0;34m\u001b[0m\u001b[0;34m\u001b[0m\u001b[0m\n",
            "\u001b[0;31mAttributeError\u001b[0m: 'numpy.ndarray' object has no attribute 'contiguous'"
          ]
        }
      ]
    },
    {
      "cell_type": "code",
      "metadata": {
        "colab": {
          "base_uri": "https://localhost:8080/",
          "height": 357
        },
        "id": "sn0vzf56dChL",
        "outputId": "ef3e0d41-bced-4b84-9b6a-6497aa7e20e0"
      },
      "source": [
        "# print(\"Accuracy: %f\" % lgs.score(X_test_f, y_test_f))  #checking the accuracy\n",
        "# print(\"Precision: %f\" % metrics.precision_score(y_test_f, predicted))\n",
        "# print(\"Recall: %f\" % metrics.recall_score(y_test_f, predicted))\n",
        "# print(\"F1-Score: %f\" % metrics.f1_score(y_test_f, predicted))\n",
        "# print(\"AUC: %f\" metrics.auc(fpr, tpr))"
      ],
      "execution_count": null,
      "outputs": [
        {
          "output_type": "error",
          "ename": "ValueError",
          "evalue": "ignored",
          "traceback": [
            "\u001b[0;31m---------------------------------------------------------------------------\u001b[0m",
            "\u001b[0;31mValueError\u001b[0m                                Traceback (most recent call last)",
            "\u001b[0;32m<ipython-input-85-79f769e0c584>\u001b[0m in \u001b[0;36m<module>\u001b[0;34m()\u001b[0m\n\u001b[1;32m      2\u001b[0m \u001b[0;31m# print(\"Precision: %f\" % metrics.precision_score(y_test_f, predicted))\u001b[0m\u001b[0;34m\u001b[0m\u001b[0;34m\u001b[0m\u001b[0;34m\u001b[0m\u001b[0m\n\u001b[1;32m      3\u001b[0m \u001b[0;31m# print(\"Recall: %f\" % metrics.recall_score(y_test_f, predicted))\u001b[0m\u001b[0;34m\u001b[0m\u001b[0;34m\u001b[0m\u001b[0;34m\u001b[0m\u001b[0m\n\u001b[0;32m----> 4\u001b[0;31m \u001b[0mprint\u001b[0m\u001b[0;34m(\u001b[0m\u001b[0;34m\"F1-Score: %f\"\u001b[0m \u001b[0;34m%\u001b[0m \u001b[0mmetrics\u001b[0m\u001b[0;34m.\u001b[0m\u001b[0mf1_score\u001b[0m\u001b[0;34m(\u001b[0m\u001b[0my_test_f\u001b[0m\u001b[0;34m,\u001b[0m \u001b[0mpredicted\u001b[0m\u001b[0;34m)\u001b[0m\u001b[0;34m)\u001b[0m\u001b[0;34m\u001b[0m\u001b[0;34m\u001b[0m\u001b[0m\n\u001b[0m\u001b[1;32m      5\u001b[0m \u001b[0;31m# print(\"AUC: %f\" metrics.auc(fpr, tpr))\u001b[0m\u001b[0;34m\u001b[0m\u001b[0;34m\u001b[0m\u001b[0;34m\u001b[0m\u001b[0m\n",
            "\u001b[0;32m/usr/local/lib/python3.6/dist-packages/sklearn/metrics/_classification.py\u001b[0m in \u001b[0;36mf1_score\u001b[0;34m(y_true, y_pred, labels, pos_label, average, sample_weight, zero_division)\u001b[0m\n\u001b[1;32m   1097\u001b[0m                        \u001b[0mpos_label\u001b[0m\u001b[0;34m=\u001b[0m\u001b[0mpos_label\u001b[0m\u001b[0;34m,\u001b[0m \u001b[0maverage\u001b[0m\u001b[0;34m=\u001b[0m\u001b[0maverage\u001b[0m\u001b[0;34m,\u001b[0m\u001b[0;34m\u001b[0m\u001b[0;34m\u001b[0m\u001b[0m\n\u001b[1;32m   1098\u001b[0m                        \u001b[0msample_weight\u001b[0m\u001b[0;34m=\u001b[0m\u001b[0msample_weight\u001b[0m\u001b[0;34m,\u001b[0m\u001b[0;34m\u001b[0m\u001b[0;34m\u001b[0m\u001b[0m\n\u001b[0;32m-> 1099\u001b[0;31m                        zero_division=zero_division)\n\u001b[0m\u001b[1;32m   1100\u001b[0m \u001b[0;34m\u001b[0m\u001b[0m\n\u001b[1;32m   1101\u001b[0m \u001b[0;34m\u001b[0m\u001b[0m\n",
            "\u001b[0;32m/usr/local/lib/python3.6/dist-packages/sklearn/metrics/_classification.py\u001b[0m in \u001b[0;36mfbeta_score\u001b[0;34m(y_true, y_pred, beta, labels, pos_label, average, sample_weight, zero_division)\u001b[0m\n\u001b[1;32m   1224\u001b[0m                                                  \u001b[0mwarn_for\u001b[0m\u001b[0;34m=\u001b[0m\u001b[0;34m(\u001b[0m\u001b[0;34m'f-score'\u001b[0m\u001b[0;34m,\u001b[0m\u001b[0;34m)\u001b[0m\u001b[0;34m,\u001b[0m\u001b[0;34m\u001b[0m\u001b[0;34m\u001b[0m\u001b[0m\n\u001b[1;32m   1225\u001b[0m                                                  \u001b[0msample_weight\u001b[0m\u001b[0;34m=\u001b[0m\u001b[0msample_weight\u001b[0m\u001b[0;34m,\u001b[0m\u001b[0;34m\u001b[0m\u001b[0;34m\u001b[0m\u001b[0m\n\u001b[0;32m-> 1226\u001b[0;31m                                                  zero_division=zero_division)\n\u001b[0m\u001b[1;32m   1227\u001b[0m     \u001b[0;32mreturn\u001b[0m \u001b[0mf\u001b[0m\u001b[0;34m\u001b[0m\u001b[0;34m\u001b[0m\u001b[0m\n\u001b[1;32m   1228\u001b[0m \u001b[0;34m\u001b[0m\u001b[0m\n",
            "\u001b[0;32m/usr/local/lib/python3.6/dist-packages/sklearn/metrics/_classification.py\u001b[0m in \u001b[0;36mprecision_recall_fscore_support\u001b[0;34m(y_true, y_pred, beta, labels, pos_label, average, warn_for, sample_weight, zero_division)\u001b[0m\n\u001b[1;32m   1482\u001b[0m         \u001b[0;32mraise\u001b[0m \u001b[0mValueError\u001b[0m\u001b[0;34m(\u001b[0m\u001b[0;34m\"beta should be >=0 in the F-beta score\"\u001b[0m\u001b[0;34m)\u001b[0m\u001b[0;34m\u001b[0m\u001b[0;34m\u001b[0m\u001b[0m\n\u001b[1;32m   1483\u001b[0m     labels = _check_set_wise_labels(y_true, y_pred, average, labels,\n\u001b[0;32m-> 1484\u001b[0;31m                                     pos_label)\n\u001b[0m\u001b[1;32m   1485\u001b[0m \u001b[0;34m\u001b[0m\u001b[0m\n\u001b[1;32m   1486\u001b[0m     \u001b[0;31m# Calculate tp_sum, pred_sum, true_sum ###\u001b[0m\u001b[0;34m\u001b[0m\u001b[0;34m\u001b[0m\u001b[0;34m\u001b[0m\u001b[0m\n",
            "\u001b[0;32m/usr/local/lib/python3.6/dist-packages/sklearn/metrics/_classification.py\u001b[0m in \u001b[0;36m_check_set_wise_labels\u001b[0;34m(y_true, y_pred, average, labels, pos_label)\u001b[0m\n\u001b[1;32m   1299\u001b[0m                          str(average_options))\n\u001b[1;32m   1300\u001b[0m \u001b[0;34m\u001b[0m\u001b[0m\n\u001b[0;32m-> 1301\u001b[0;31m     \u001b[0my_type\u001b[0m\u001b[0;34m,\u001b[0m \u001b[0my_true\u001b[0m\u001b[0;34m,\u001b[0m \u001b[0my_pred\u001b[0m \u001b[0;34m=\u001b[0m \u001b[0m_check_targets\u001b[0m\u001b[0;34m(\u001b[0m\u001b[0my_true\u001b[0m\u001b[0;34m,\u001b[0m \u001b[0my_pred\u001b[0m\u001b[0;34m)\u001b[0m\u001b[0;34m\u001b[0m\u001b[0;34m\u001b[0m\u001b[0m\n\u001b[0m\u001b[1;32m   1302\u001b[0m     \u001b[0mpresent_labels\u001b[0m \u001b[0;34m=\u001b[0m \u001b[0munique_labels\u001b[0m\u001b[0;34m(\u001b[0m\u001b[0my_true\u001b[0m\u001b[0;34m,\u001b[0m \u001b[0my_pred\u001b[0m\u001b[0;34m)\u001b[0m\u001b[0;34m\u001b[0m\u001b[0;34m\u001b[0m\u001b[0m\n\u001b[1;32m   1303\u001b[0m     \u001b[0;32mif\u001b[0m \u001b[0maverage\u001b[0m \u001b[0;34m==\u001b[0m \u001b[0;34m'binary'\u001b[0m\u001b[0;34m:\u001b[0m\u001b[0;34m\u001b[0m\u001b[0;34m\u001b[0m\u001b[0m\n",
            "\u001b[0;32m/usr/local/lib/python3.6/dist-packages/sklearn/metrics/_classification.py\u001b[0m in \u001b[0;36m_check_targets\u001b[0;34m(y_true, y_pred)\u001b[0m\n\u001b[1;32m     95\u001b[0m     \u001b[0;31m# No metrics support \"multiclass-multioutput\" format\u001b[0m\u001b[0;34m\u001b[0m\u001b[0;34m\u001b[0m\u001b[0;34m\u001b[0m\u001b[0m\n\u001b[1;32m     96\u001b[0m     \u001b[0;32mif\u001b[0m \u001b[0;34m(\u001b[0m\u001b[0my_type\u001b[0m \u001b[0;32mnot\u001b[0m \u001b[0;32min\u001b[0m \u001b[0;34m[\u001b[0m\u001b[0;34m\"binary\"\u001b[0m\u001b[0;34m,\u001b[0m \u001b[0;34m\"multiclass\"\u001b[0m\u001b[0;34m,\u001b[0m \u001b[0;34m\"multilabel-indicator\"\u001b[0m\u001b[0;34m]\u001b[0m\u001b[0;34m)\u001b[0m\u001b[0;34m:\u001b[0m\u001b[0;34m\u001b[0m\u001b[0;34m\u001b[0m\u001b[0m\n\u001b[0;32m---> 97\u001b[0;31m         \u001b[0;32mraise\u001b[0m \u001b[0mValueError\u001b[0m\u001b[0;34m(\u001b[0m\u001b[0;34m\"{0} is not supported\"\u001b[0m\u001b[0;34m.\u001b[0m\u001b[0mformat\u001b[0m\u001b[0;34m(\u001b[0m\u001b[0my_type\u001b[0m\u001b[0;34m)\u001b[0m\u001b[0;34m)\u001b[0m\u001b[0;34m\u001b[0m\u001b[0;34m\u001b[0m\u001b[0m\n\u001b[0m\u001b[1;32m     98\u001b[0m \u001b[0;34m\u001b[0m\u001b[0m\n\u001b[1;32m     99\u001b[0m     \u001b[0;32mif\u001b[0m \u001b[0my_type\u001b[0m \u001b[0;32min\u001b[0m \u001b[0;34m[\u001b[0m\u001b[0;34m\"binary\"\u001b[0m\u001b[0;34m,\u001b[0m \u001b[0;34m\"multiclass\"\u001b[0m\u001b[0;34m]\u001b[0m\u001b[0;34m:\u001b[0m\u001b[0;34m\u001b[0m\u001b[0;34m\u001b[0m\u001b[0m\n",
            "\u001b[0;31mValueError\u001b[0m: continuous is not supported"
          ]
        }
      ]
    },
    {
      "cell_type": "markdown",
      "metadata": {
        "id": "sOKP2rxSxdYP"
      },
      "source": [
        "# Pipeline"
      ]
    },
    {
      "cell_type": "markdown",
      "metadata": {
        "id": "CQ_TnpOPxgGq"
      },
      "source": [
        "## Sklearn Imports"
      ]
    },
    {
      "cell_type": "code",
      "metadata": {
        "id": "4YrFKfI_bdae"
      },
      "source": [
        "from sklearn.compose import ColumnTransformer\n",
        "from sklearn.pipeline import Pipeline\n",
        "from sklearn.impute import SimpleImputer\n",
        "from sklearn.preprocessing import OneHotEncoder\n",
        "from sklearn.ensemble import RandomForestRegressor"
      ],
      "execution_count": null,
      "outputs": []
    },
    {
      "cell_type": "markdown",
      "metadata": {
        "id": "uOXZGBPUxjm4"
      },
      "source": [
        "## processing"
      ]
    },
    {
      "cell_type": "code",
      "metadata": {
        "id": "U_8q9OA3xlX1"
      },
      "source": [
        "# Preprocessing for numerical data\n",
        "numerical_transformer = SimpleImputer(strategy='constant')\n",
        "\n",
        "# Preprocessing for categorical data\n",
        "categorical_transformer = Pipeline(steps=[\n",
        "    ('imputer', SimpleImputer(strategy='most_frequent')),\n",
        "    ('onehot', OneHotEncoder(handle_unknown='ignore'))\n",
        "])\n",
        "\n",
        "# Bundle preprocessing for numerical and categorical data\n",
        "preprocessor = ColumnTransformer(\n",
        "    transformers=[\n",
        "        ('num', numerical_transformer, numerical_cols),\n",
        "        ('cat', categorical_transformer, categorical_cols)\n",
        "    ])"
      ],
      "execution_count": null,
      "outputs": []
    },
    {
      "cell_type": "code",
      "metadata": {
        "id": "ObsQfKmrxpAT"
      },
      "source": [
        "model = RandomForestRegressor(n_estimators=20, random_state=0)"
      ],
      "execution_count": null,
      "outputs": []
    },
    {
      "cell_type": "code",
      "metadata": {
        "id": "h2q4msN_x_QS"
      },
      "source": [
        "from sklearn.metrics import mean_absolute_error\n",
        "\n",
        "# Bundle preprocessing and modeling code in a pipeline\n",
        "my_pipeline = Pipeline(steps=[('preprocessor', preprocessor),\n",
        "                              ('model', model)\n",
        "                             ])\n",
        "\n",
        "# Preprocessing of training data, fit model \n",
        "my_pipeline.fit(X_train, y_train)\n",
        "\n",
        "# Preprocessing of validation data, get predictions\n",
        "preds = my_pipeline.predict(X_valid)\n",
        "\n",
        "# Evaluate the model\n",
        "score = mean_absolute_error(y_valid, preds)\n",
        "print('MAE:', score)"
      ],
      "execution_count": null,
      "outputs": []
    }
  ]
}